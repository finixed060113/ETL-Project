{
 "cells": [
  {
   "cell_type": "markdown",
   "metadata": {},
   "source": [
    "## Analisis\n"
   ]
  },
  {
   "cell_type": "markdown",
   "metadata": {},
   "source": [
    "Ver si el valor de las cartas depende de si es porque se usan mas, por su atk, tipo, archetipo...\n"
   ]
  },
  {
   "cell_type": "code",
   "execution_count": 17,
   "metadata": {},
   "outputs": [],
   "source": [
    "import pandas as pd\n",
    "import numpy as np\n",
    "\n",
    "# estas son pa pintar\n",
    "import matplotlib.pyplot as plt\n",
    "import seaborn as sns\n",
    "import plotly.express as px"
   ]
  },
  {
   "cell_type": "code",
   "execution_count": 18,
   "metadata": {},
   "outputs": [],
   "source": [
    "allcards = pd.read_csv(\"../data/all_cards.csv\")\n",
    "topcards = pd.read_csv(\"../data/top_cards.csv\", index_col= 0)"
   ]
  },
  {
   "cell_type": "code",
   "execution_count": 19,
   "metadata": {},
   "outputs": [
    {
     "data": {
      "text/html": [
       "<div>\n",
       "<style scoped>\n",
       "    .dataframe tbody tr th:only-of-type {\n",
       "        vertical-align: middle;\n",
       "    }\n",
       "\n",
       "    .dataframe tbody tr th {\n",
       "        vertical-align: top;\n",
       "    }\n",
       "\n",
       "    .dataframe thead th {\n",
       "        text-align: right;\n",
       "    }\n",
       "</style>\n",
       "<table border=\"1\" class=\"dataframe\">\n",
       "  <thead>\n",
       "    <tr style=\"text-align: right;\">\n",
       "      <th></th>\n",
       "      <th>id_</th>\n",
       "      <th>name</th>\n",
       "      <th>type</th>\n",
       "      <th>frametype</th>\n",
       "      <th>desc</th>\n",
       "      <th>race</th>\n",
       "      <th>archetype</th>\n",
       "      <th>atk</th>\n",
       "      <th>def</th>\n",
       "      <th>level</th>\n",
       "      <th>attribute</th>\n",
       "      <th>url_</th>\n",
       "      <th>cardmarket_price</th>\n",
       "      <th>tcgplayer_price</th>\n",
       "      <th>ebay_price</th>\n",
       "      <th>amazon_price</th>\n",
       "      <th>coolstuffinc_price</th>\n",
       "      <th>mean_price</th>\n",
       "    </tr>\n",
       "  </thead>\n",
       "  <tbody>\n",
       "    <tr>\n",
       "      <th>0</th>\n",
       "      <td>34541863</td>\n",
       "      <td>\"A\" Cell Breeding Device</td>\n",
       "      <td>Spell Card</td>\n",
       "      <td>spell</td>\n",
       "      <td>During each of your Standby Phases, put 1 A-Co...</td>\n",
       "      <td>Continuous</td>\n",
       "      <td>Alien</td>\n",
       "      <td>NaN</td>\n",
       "      <td>NaN</td>\n",
       "      <td>NaN</td>\n",
       "      <td>NaN</td>\n",
       "      <td>https://yugioh.fandom.com/wiki/\"A\"_Cell_Breedi...</td>\n",
       "      <td>4.55</td>\n",
       "      <td>0.18</td>\n",
       "      <td>0.99</td>\n",
       "      <td>24.45</td>\n",
       "      <td>0.25</td>\n",
       "      <td>6.084</td>\n",
       "    </tr>\n",
       "    <tr>\n",
       "      <th>1</th>\n",
       "      <td>64163367</td>\n",
       "      <td>\"A\" Cell Incubator</td>\n",
       "      <td>Spell Card</td>\n",
       "      <td>spell</td>\n",
       "      <td>Each time an A-Counter(s) is removed from play...</td>\n",
       "      <td>Continuous</td>\n",
       "      <td>Alien</td>\n",
       "      <td>NaN</td>\n",
       "      <td>NaN</td>\n",
       "      <td>NaN</td>\n",
       "      <td>NaN</td>\n",
       "      <td>https://yugioh.fandom.com/wiki/\"A\"_Cell_Incubator</td>\n",
       "      <td>0.16</td>\n",
       "      <td>0.21</td>\n",
       "      <td>1.25</td>\n",
       "      <td>0.50</td>\n",
       "      <td>0.25</td>\n",
       "      <td>0.474</td>\n",
       "    </tr>\n",
       "  </tbody>\n",
       "</table>\n",
       "</div>"
      ],
      "text/plain": [
       "        id_                      name        type frametype   \n",
       "0  34541863  \"A\" Cell Breeding Device  Spell Card     spell  \\\n",
       "1  64163367        \"A\" Cell Incubator  Spell Card     spell   \n",
       "\n",
       "                                                desc        race archetype   \n",
       "0  During each of your Standby Phases, put 1 A-Co...  Continuous     Alien  \\\n",
       "1  Each time an A-Counter(s) is removed from play...  Continuous     Alien   \n",
       "\n",
       "   atk  def  level attribute   \n",
       "0  NaN  NaN    NaN       NaN  \\\n",
       "1  NaN  NaN    NaN       NaN   \n",
       "\n",
       "                                                url_  cardmarket_price   \n",
       "0  https://yugioh.fandom.com/wiki/\"A\"_Cell_Breedi...              4.55  \\\n",
       "1  https://yugioh.fandom.com/wiki/\"A\"_Cell_Incubator              0.16   \n",
       "\n",
       "   tcgplayer_price  ebay_price  amazon_price  coolstuffinc_price  mean_price  \n",
       "0             0.18        0.99         24.45                0.25       6.084  \n",
       "1             0.21        1.25          0.50                0.25       0.474  "
      ]
     },
     "execution_count": 19,
     "metadata": {},
     "output_type": "execute_result"
    }
   ],
   "source": [
    "allcards.head(2)"
   ]
  },
  {
   "cell_type": "code",
   "execution_count": 20,
   "metadata": {},
   "outputs": [
    {
     "data": {
      "text/html": [
       "<div>\n",
       "<style scoped>\n",
       "    .dataframe tbody tr th:only-of-type {\n",
       "        vertical-align: middle;\n",
       "    }\n",
       "\n",
       "    .dataframe tbody tr th {\n",
       "        vertical-align: top;\n",
       "    }\n",
       "\n",
       "    .dataframe thead th {\n",
       "        text-align: right;\n",
       "    }\n",
       "</style>\n",
       "<table border=\"1\" class=\"dataframe\">\n",
       "  <thead>\n",
       "    <tr style=\"text-align: right;\">\n",
       "      <th></th>\n",
       "      <th>name</th>\n",
       "      <th>decks</th>\n",
       "      <th>porcentage</th>\n",
       "    </tr>\n",
       "    <tr>\n",
       "      <th>id_</th>\n",
       "      <th></th>\n",
       "      <th></th>\n",
       "      <th></th>\n",
       "    </tr>\n",
       "  </thead>\n",
       "  <tbody>\n",
       "    <tr>\n",
       "      <th>14558127</th>\n",
       "      <td>Ash Blossom &amp; Joyous Spring</td>\n",
       "      <td>2206</td>\n",
       "      <td>66.1668</td>\n",
       "    </tr>\n",
       "    <tr>\n",
       "      <th>90448279</th>\n",
       "      <td>Divine Arsenal AA-ZEUS - Sky Thunder</td>\n",
       "      <td>1818</td>\n",
       "      <td>54.5291</td>\n",
       "    </tr>\n",
       "  </tbody>\n",
       "</table>\n",
       "</div>"
      ],
      "text/plain": [
       "                                          name  decks  porcentage\n",
       "id_                                                              \n",
       "14558127           Ash Blossom & Joyous Spring   2206     66.1668\n",
       "90448279  Divine Arsenal AA-ZEUS - Sky Thunder   1818     54.5291"
      ]
     },
     "execution_count": 20,
     "metadata": {},
     "output_type": "execute_result"
    }
   ],
   "source": [
    "topcards.head(2)"
   ]
  },
  {
   "cell_type": "code",
   "execution_count": 21,
   "metadata": {},
   "outputs": [
    {
     "data": {
      "text/plain": [
       "id_                     int64\n",
       "name                   object\n",
       "type                   object\n",
       "frametype              object\n",
       "desc                   object\n",
       "race                   object\n",
       "archetype              object\n",
       "atk                   float64\n",
       "def                   float64\n",
       "level                 float64\n",
       "attribute              object\n",
       "url_                   object\n",
       "cardmarket_price      float64\n",
       "tcgplayer_price       float64\n",
       "ebay_price            float64\n",
       "amazon_price          float64\n",
       "coolstuffinc_price    float64\n",
       "mean_price            float64\n",
       "dtype: object"
      ]
     },
     "execution_count": 21,
     "metadata": {},
     "output_type": "execute_result"
    }
   ],
   "source": [
    "allcards.dtypes"
   ]
  },
  {
   "cell_type": "code",
   "execution_count": 22,
   "metadata": {},
   "outputs": [
    {
     "data": {
      "text/plain": [
       "name           object\n",
       "decks           int64\n",
       "porcentage    float64\n",
       "dtype: object"
      ]
     },
     "execution_count": 22,
     "metadata": {},
     "output_type": "execute_result"
    }
   ],
   "source": [
    "topcards.dtypes"
   ]
  },
  {
   "cell_type": "code",
   "execution_count": 26,
   "metadata": {},
   "outputs": [
    {
     "data": {
      "text/html": [
       "<div>\n",
       "<style scoped>\n",
       "    .dataframe tbody tr th:only-of-type {\n",
       "        vertical-align: middle;\n",
       "    }\n",
       "\n",
       "    .dataframe tbody tr th {\n",
       "        vertical-align: top;\n",
       "    }\n",
       "\n",
       "    .dataframe thead th {\n",
       "        text-align: right;\n",
       "    }\n",
       "</style>\n",
       "<table border=\"1\" class=\"dataframe\">\n",
       "  <thead>\n",
       "    <tr style=\"text-align: right;\">\n",
       "      <th></th>\n",
       "      <th>id_</th>\n",
       "      <th>name</th>\n",
       "      <th>type</th>\n",
       "      <th>frametype</th>\n",
       "      <th>desc</th>\n",
       "      <th>race</th>\n",
       "      <th>archetype</th>\n",
       "      <th>atk</th>\n",
       "      <th>def</th>\n",
       "      <th>level</th>\n",
       "      <th>attribute</th>\n",
       "      <th>url_</th>\n",
       "      <th>cardmarket_price</th>\n",
       "      <th>tcgplayer_price</th>\n",
       "      <th>ebay_price</th>\n",
       "      <th>amazon_price</th>\n",
       "      <th>coolstuffinc_price</th>\n",
       "      <th>mean_price</th>\n",
       "      <th>decks</th>\n",
       "      <th>porcentage</th>\n",
       "    </tr>\n",
       "  </thead>\n",
       "  <tbody>\n",
       "    <tr>\n",
       "      <th>0</th>\n",
       "      <td>14558127</td>\n",
       "      <td>Ash Blossom &amp; Joyous Spring</td>\n",
       "      <td>Tuner Monster</td>\n",
       "      <td>effect</td>\n",
       "      <td>When a card or effect is activated that includ...</td>\n",
       "      <td>Zombie</td>\n",
       "      <td>NaN</td>\n",
       "      <td>0.0</td>\n",
       "      <td>1800.0</td>\n",
       "      <td>3.0</td>\n",
       "      <td>FIRE</td>\n",
       "      <td>https://yugioh.fandom.com/wiki/Ash_Blossom_&amp;_J...</td>\n",
       "      <td>3.23</td>\n",
       "      <td>3.74</td>\n",
       "      <td>11.84</td>\n",
       "      <td>28.99</td>\n",
       "      <td>4.99</td>\n",
       "      <td>10.558</td>\n",
       "      <td>2206</td>\n",
       "      <td>66.1668</td>\n",
       "    </tr>\n",
       "    <tr>\n",
       "      <th>1</th>\n",
       "      <td>90448279</td>\n",
       "      <td>Divine Arsenal AA-ZEUS - Sky Thunder</td>\n",
       "      <td>XYZ Monster</td>\n",
       "      <td>xyz</td>\n",
       "      <td>2 Level 12 monsters  Once per turn, if an Xyz ...</td>\n",
       "      <td>Machine</td>\n",
       "      <td>NaN</td>\n",
       "      <td>3000.0</td>\n",
       "      <td>3000.0</td>\n",
       "      <td>12.0</td>\n",
       "      <td>LIGHT</td>\n",
       "      <td>https://yugioh.fandom.com/wiki/Divine_Arsenal_...</td>\n",
       "      <td>14.60</td>\n",
       "      <td>12.35</td>\n",
       "      <td>29.99</td>\n",
       "      <td>15.41</td>\n",
       "      <td>13.99</td>\n",
       "      <td>17.268</td>\n",
       "      <td>1818</td>\n",
       "      <td>54.5291</td>\n",
       "    </tr>\n",
       "    <tr>\n",
       "      <th>2</th>\n",
       "      <td>10045474</td>\n",
       "      <td>Infinite Impermanence</td>\n",
       "      <td>Trap Card</td>\n",
       "      <td>trap</td>\n",
       "      <td>Target 1 face-up monster your opponent control...</td>\n",
       "      <td>Normal</td>\n",
       "      <td>NaN</td>\n",
       "      <td>NaN</td>\n",
       "      <td>NaN</td>\n",
       "      <td>NaN</td>\n",
       "      <td>NaN</td>\n",
       "      <td>https://yugioh.fandom.com/wiki/Infinite_Imperm...</td>\n",
       "      <td>6.91</td>\n",
       "      <td>10.20</td>\n",
       "      <td>13.99</td>\n",
       "      <td>14.46</td>\n",
       "      <td>7.99</td>\n",
       "      <td>10.710</td>\n",
       "      <td>1803</td>\n",
       "      <td>54.0792</td>\n",
       "    </tr>\n",
       "    <tr>\n",
       "      <th>3</th>\n",
       "      <td>24224830</td>\n",
       "      <td>Called by the Grave</td>\n",
       "      <td>Spell Card</td>\n",
       "      <td>spell</td>\n",
       "      <td>Target 1 monster in your opponent's GY; banish...</td>\n",
       "      <td>Quick-Play</td>\n",
       "      <td>NaN</td>\n",
       "      <td>NaN</td>\n",
       "      <td>NaN</td>\n",
       "      <td>NaN</td>\n",
       "      <td>NaN</td>\n",
       "      <td>https://yugioh.fandom.com/wiki/Called_by_the_G...</td>\n",
       "      <td>0.88</td>\n",
       "      <td>1.01</td>\n",
       "      <td>4.95</td>\n",
       "      <td>0.57</td>\n",
       "      <td>1.99</td>\n",
       "      <td>1.880</td>\n",
       "      <td>1249</td>\n",
       "      <td>37.4625</td>\n",
       "    </tr>\n",
       "    <tr>\n",
       "      <th>4</th>\n",
       "      <td>84211599</td>\n",
       "      <td>Pot of Prosperity</td>\n",
       "      <td>Spell Card</td>\n",
       "      <td>spell</td>\n",
       "      <td>Banish 3 or 6 cards of your choice from your E...</td>\n",
       "      <td>Normal</td>\n",
       "      <td>Greed</td>\n",
       "      <td>NaN</td>\n",
       "      <td>NaN</td>\n",
       "      <td>NaN</td>\n",
       "      <td>NaN</td>\n",
       "      <td>https://yugioh.fandom.com/wiki/Pot_of_Prosperity</td>\n",
       "      <td>40.55</td>\n",
       "      <td>36.80</td>\n",
       "      <td>39.99</td>\n",
       "      <td>1.74</td>\n",
       "      <td>39.99</td>\n",
       "      <td>31.814</td>\n",
       "      <td>1111</td>\n",
       "      <td>33.3233</td>\n",
       "    </tr>\n",
       "    <tr>\n",
       "      <th>...</th>\n",
       "      <td>...</td>\n",
       "      <td>...</td>\n",
       "      <td>...</td>\n",
       "      <td>...</td>\n",
       "      <td>...</td>\n",
       "      <td>...</td>\n",
       "      <td>...</td>\n",
       "      <td>...</td>\n",
       "      <td>...</td>\n",
       "      <td>...</td>\n",
       "      <td>...</td>\n",
       "      <td>...</td>\n",
       "      <td>...</td>\n",
       "      <td>...</td>\n",
       "      <td>...</td>\n",
       "      <td>...</td>\n",
       "      <td>...</td>\n",
       "      <td>...</td>\n",
       "      <td>...</td>\n",
       "      <td>...</td>\n",
       "    </tr>\n",
       "    <tr>\n",
       "      <th>195</th>\n",
       "      <td>71607202</td>\n",
       "      <td>Muckraker From the Underworld</td>\n",
       "      <td>Link Monster</td>\n",
       "      <td>link</td>\n",
       "      <td>2 Effect Monsters  Cannot be used as Link Mate...</td>\n",
       "      <td>Fiend</td>\n",
       "      <td>From the Underworld</td>\n",
       "      <td>1000.0</td>\n",
       "      <td>NaN</td>\n",
       "      <td>NaN</td>\n",
       "      <td>DARK</td>\n",
       "      <td>https://yugioh.fandom.com/wiki/Muckraker_From_...</td>\n",
       "      <td>0.00</td>\n",
       "      <td>19.45</td>\n",
       "      <td>10.34</td>\n",
       "      <td>2.97</td>\n",
       "      <td>11.99</td>\n",
       "      <td>8.950</td>\n",
       "      <td>137</td>\n",
       "      <td>4.1092</td>\n",
       "    </tr>\n",
       "    <tr>\n",
       "      <th>196</th>\n",
       "      <td>69327790</td>\n",
       "      <td>Raiza the Mega Monarch</td>\n",
       "      <td>Effect Monster</td>\n",
       "      <td>effect</td>\n",
       "      <td>You can Tribute Summon this card by Tributing ...</td>\n",
       "      <td>Winged Beast</td>\n",
       "      <td>Monarch</td>\n",
       "      <td>2800.0</td>\n",
       "      <td>1000.0</td>\n",
       "      <td>8.0</td>\n",
       "      <td>WIND</td>\n",
       "      <td>https://yugioh.fandom.com/wiki/Raiza_the_Mega_...</td>\n",
       "      <td>0.48</td>\n",
       "      <td>0.32</td>\n",
       "      <td>1.12</td>\n",
       "      <td>4.99</td>\n",
       "      <td>1.99</td>\n",
       "      <td>1.780</td>\n",
       "      <td>137</td>\n",
       "      <td>4.1092</td>\n",
       "    </tr>\n",
       "    <tr>\n",
       "      <th>197</th>\n",
       "      <td>80611581</td>\n",
       "      <td>Floowandereeze &amp; Empen</td>\n",
       "      <td>Effect Monster</td>\n",
       "      <td>effect</td>\n",
       "      <td>If this card is Tribute Summoned: You can add ...</td>\n",
       "      <td>Winged Beast</td>\n",
       "      <td>Floowandereeze</td>\n",
       "      <td>2700.0</td>\n",
       "      <td>1000.0</td>\n",
       "      <td>10.0</td>\n",
       "      <td>WIND</td>\n",
       "      <td>https://yugioh.fandom.com/wiki/Floowandereeze_...</td>\n",
       "      <td>0.23</td>\n",
       "      <td>0.21</td>\n",
       "      <td>1.50</td>\n",
       "      <td>0.57</td>\n",
       "      <td>0.49</td>\n",
       "      <td>0.600</td>\n",
       "      <td>137</td>\n",
       "      <td>4.1092</td>\n",
       "    </tr>\n",
       "    <tr>\n",
       "      <th>198</th>\n",
       "      <td>88093706</td>\n",
       "      <td>Update Jammer</td>\n",
       "      <td>Link Monster</td>\n",
       "      <td>link</td>\n",
       "      <td>2 Level 2 or higher Cyberse monsters  Once per...</td>\n",
       "      <td>Cyberse</td>\n",
       "      <td>NaN</td>\n",
       "      <td>2000.0</td>\n",
       "      <td>NaN</td>\n",
       "      <td>NaN</td>\n",
       "      <td>WIND</td>\n",
       "      <td>https://yugioh.fandom.com/wiki/Update_Jammer</td>\n",
       "      <td>0.19</td>\n",
       "      <td>0.21</td>\n",
       "      <td>1.27</td>\n",
       "      <td>0.95</td>\n",
       "      <td>0.25</td>\n",
       "      <td>0.574</td>\n",
       "      <td>137</td>\n",
       "      <td>4.1092</td>\n",
       "    </tr>\n",
       "    <tr>\n",
       "      <th>199</th>\n",
       "      <td>80433039</td>\n",
       "      <td>Floowandereeze &amp; Stri</td>\n",
       "      <td>Effect Monster</td>\n",
       "      <td>effect</td>\n",
       "      <td>If this face-up card would leave the field, ba...</td>\n",
       "      <td>Winged Beast</td>\n",
       "      <td>Floowandereeze</td>\n",
       "      <td>700.0</td>\n",
       "      <td>1100.0</td>\n",
       "      <td>1.0</td>\n",
       "      <td>WATER</td>\n",
       "      <td>https://yugioh.fandom.com/wiki/Floowandereeze_...</td>\n",
       "      <td>0.16</td>\n",
       "      <td>0.08</td>\n",
       "      <td>1.50</td>\n",
       "      <td>16.99</td>\n",
       "      <td>0.25</td>\n",
       "      <td>3.796</td>\n",
       "      <td>137</td>\n",
       "      <td>4.1092</td>\n",
       "    </tr>\n",
       "  </tbody>\n",
       "</table>\n",
       "<p>200 rows × 20 columns</p>\n",
       "</div>"
      ],
      "text/plain": [
       "          id_                                  name            type frametype   \n",
       "0    14558127           Ash Blossom & Joyous Spring   Tuner Monster    effect  \\\n",
       "1    90448279  Divine Arsenal AA-ZEUS - Sky Thunder     XYZ Monster       xyz   \n",
       "2    10045474                 Infinite Impermanence       Trap Card      trap   \n",
       "3    24224830                   Called by the Grave      Spell Card     spell   \n",
       "4    84211599                     Pot of Prosperity      Spell Card     spell   \n",
       "..        ...                                   ...             ...       ...   \n",
       "195  71607202         Muckraker From the Underworld    Link Monster      link   \n",
       "196  69327790                Raiza the Mega Monarch  Effect Monster    effect   \n",
       "197  80611581                Floowandereeze & Empen  Effect Monster    effect   \n",
       "198  88093706                         Update Jammer    Link Monster      link   \n",
       "199  80433039                 Floowandereeze & Stri  Effect Monster    effect   \n",
       "\n",
       "                                                  desc          race   \n",
       "0    When a card or effect is activated that includ...        Zombie  \\\n",
       "1    2 Level 12 monsters  Once per turn, if an Xyz ...       Machine   \n",
       "2    Target 1 face-up monster your opponent control...        Normal   \n",
       "3    Target 1 monster in your opponent's GY; banish...    Quick-Play   \n",
       "4    Banish 3 or 6 cards of your choice from your E...        Normal   \n",
       "..                                                 ...           ...   \n",
       "195  2 Effect Monsters  Cannot be used as Link Mate...         Fiend   \n",
       "196  You can Tribute Summon this card by Tributing ...  Winged Beast   \n",
       "197  If this card is Tribute Summoned: You can add ...  Winged Beast   \n",
       "198  2 Level 2 or higher Cyberse monsters  Once per...       Cyberse   \n",
       "199  If this face-up card would leave the field, ba...  Winged Beast   \n",
       "\n",
       "               archetype     atk     def  level attribute   \n",
       "0                    NaN     0.0  1800.0    3.0      FIRE  \\\n",
       "1                    NaN  3000.0  3000.0   12.0     LIGHT   \n",
       "2                    NaN     NaN     NaN    NaN       NaN   \n",
       "3                    NaN     NaN     NaN    NaN       NaN   \n",
       "4                  Greed     NaN     NaN    NaN       NaN   \n",
       "..                   ...     ...     ...    ...       ...   \n",
       "195  From the Underworld  1000.0     NaN    NaN      DARK   \n",
       "196              Monarch  2800.0  1000.0    8.0      WIND   \n",
       "197       Floowandereeze  2700.0  1000.0   10.0      WIND   \n",
       "198                  NaN  2000.0     NaN    NaN      WIND   \n",
       "199       Floowandereeze   700.0  1100.0    1.0     WATER   \n",
       "\n",
       "                                                  url_  cardmarket_price   \n",
       "0    https://yugioh.fandom.com/wiki/Ash_Blossom_&_J...              3.23  \\\n",
       "1    https://yugioh.fandom.com/wiki/Divine_Arsenal_...             14.60   \n",
       "2    https://yugioh.fandom.com/wiki/Infinite_Imperm...              6.91   \n",
       "3    https://yugioh.fandom.com/wiki/Called_by_the_G...              0.88   \n",
       "4     https://yugioh.fandom.com/wiki/Pot_of_Prosperity             40.55   \n",
       "..                                                 ...               ...   \n",
       "195  https://yugioh.fandom.com/wiki/Muckraker_From_...              0.00   \n",
       "196  https://yugioh.fandom.com/wiki/Raiza_the_Mega_...              0.48   \n",
       "197  https://yugioh.fandom.com/wiki/Floowandereeze_...              0.23   \n",
       "198       https://yugioh.fandom.com/wiki/Update_Jammer              0.19   \n",
       "199  https://yugioh.fandom.com/wiki/Floowandereeze_...              0.16   \n",
       "\n",
       "     tcgplayer_price  ebay_price  amazon_price  coolstuffinc_price   \n",
       "0               3.74       11.84         28.99                4.99  \\\n",
       "1              12.35       29.99         15.41               13.99   \n",
       "2              10.20       13.99         14.46                7.99   \n",
       "3               1.01        4.95          0.57                1.99   \n",
       "4              36.80       39.99          1.74               39.99   \n",
       "..               ...         ...           ...                 ...   \n",
       "195            19.45       10.34          2.97               11.99   \n",
       "196             0.32        1.12          4.99                1.99   \n",
       "197             0.21        1.50          0.57                0.49   \n",
       "198             0.21        1.27          0.95                0.25   \n",
       "199             0.08        1.50         16.99                0.25   \n",
       "\n",
       "     mean_price  decks  porcentage  \n",
       "0        10.558   2206     66.1668  \n",
       "1        17.268   1818     54.5291  \n",
       "2        10.710   1803     54.0792  \n",
       "3         1.880   1249     37.4625  \n",
       "4        31.814   1111     33.3233  \n",
       "..          ...    ...         ...  \n",
       "195       8.950    137      4.1092  \n",
       "196       1.780    137      4.1092  \n",
       "197       0.600    137      4.1092  \n",
       "198       0.574    137      4.1092  \n",
       "199       3.796    137      4.1092  \n",
       "\n",
       "[200 rows x 20 columns]"
      ]
     },
     "execution_count": 26,
     "metadata": {},
     "output_type": "execute_result"
    }
   ],
   "source": [
    "# Perform the merge using the common key column.\n",
    "df_topcards = pd.merge(allcards, topcards, on='name', how='inner')\n",
    "df_topcards = df_topcards.sort_values(by='porcentage', ascending=False)\n",
    "df_topcards = df_topcards.reset_index().drop('index', axis=1)\n",
    "\n",
    "df_topcards"
   ]
  },
  {
   "cell_type": "code",
   "execution_count": 30,
   "metadata": {},
   "outputs": [
    {
     "data": {
      "text/html": [
       "<div>\n",
       "<style scoped>\n",
       "    .dataframe tbody tr th:only-of-type {\n",
       "        vertical-align: middle;\n",
       "    }\n",
       "\n",
       "    .dataframe tbody tr th {\n",
       "        vertical-align: top;\n",
       "    }\n",
       "\n",
       "    .dataframe thead th {\n",
       "        text-align: right;\n",
       "    }\n",
       "</style>\n",
       "<table border=\"1\" class=\"dataframe\">\n",
       "  <thead>\n",
       "    <tr style=\"text-align: right;\">\n",
       "      <th></th>\n",
       "      <th>mean_price</th>\n",
       "    </tr>\n",
       "    <tr>\n",
       "      <th>archetype</th>\n",
       "      <th></th>\n",
       "    </tr>\n",
       "  </thead>\n",
       "  <tbody>\n",
       "    <tr>\n",
       "      <th>Adventurer Token</th>\n",
       "      <td>14.255200</td>\n",
       "    </tr>\n",
       "    <tr>\n",
       "      <th>Albaz Dragon</th>\n",
       "      <td>0.650000</td>\n",
       "    </tr>\n",
       "    <tr>\n",
       "      <th>Ancient Warriors</th>\n",
       "      <td>4.586000</td>\n",
       "    </tr>\n",
       "    <tr>\n",
       "      <th>Book of</th>\n",
       "      <td>0.594000</td>\n",
       "    </tr>\n",
       "    <tr>\n",
       "      <th>Borrel</th>\n",
       "      <td>9.434000</td>\n",
       "    </tr>\n",
       "    <tr>\n",
       "      <th>Branded</th>\n",
       "      <td>1.992000</td>\n",
       "    </tr>\n",
       "    <tr>\n",
       "      <th>Burning Abyss</th>\n",
       "      <td>0.528000</td>\n",
       "    </tr>\n",
       "    <tr>\n",
       "      <th>Bystial</th>\n",
       "      <td>19.491500</td>\n",
       "    </tr>\n",
       "    <tr>\n",
       "      <th>Chaos</th>\n",
       "      <td>4.434000</td>\n",
       "    </tr>\n",
       "    <tr>\n",
       "      <th>Charmer</th>\n",
       "      <td>3.962000</td>\n",
       "    </tr>\n",
       "    <tr>\n",
       "      <th>Code Talker</th>\n",
       "      <td>13.232000</td>\n",
       "    </tr>\n",
       "    <tr>\n",
       "      <th>Crystron</th>\n",
       "      <td>1.422000</td>\n",
       "    </tr>\n",
       "    <tr>\n",
       "      <th>D.D.</th>\n",
       "      <td>2.328000</td>\n",
       "    </tr>\n",
       "    <tr>\n",
       "      <th>Despia</th>\n",
       "      <td>3.442400</td>\n",
       "    </tr>\n",
       "    <tr>\n",
       "      <th>Destiny HERO</th>\n",
       "      <td>5.763000</td>\n",
       "    </tr>\n",
       "    <tr>\n",
       "      <th>Dogmatika</th>\n",
       "      <td>4.987000</td>\n",
       "    </tr>\n",
       "    <tr>\n",
       "      <th>Dragunity</th>\n",
       "      <td>1.369000</td>\n",
       "    </tr>\n",
       "    <tr>\n",
       "      <th>Endymion</th>\n",
       "      <td>14.766000</td>\n",
       "    </tr>\n",
       "    <tr>\n",
       "      <th>Exchange of the Spirit</th>\n",
       "      <td>2.331000</td>\n",
       "    </tr>\n",
       "    <tr>\n",
       "      <th>Eyes Restrict</th>\n",
       "      <td>2.512000</td>\n",
       "    </tr>\n",
       "    <tr>\n",
       "      <th>Fire Formation</th>\n",
       "      <td>0.886000</td>\n",
       "    </tr>\n",
       "    <tr>\n",
       "      <th>Fleur</th>\n",
       "      <td>63.676000</td>\n",
       "    </tr>\n",
       "    <tr>\n",
       "      <th>Floowandereeze</th>\n",
       "      <td>2.198000</td>\n",
       "    </tr>\n",
       "    <tr>\n",
       "      <th>Forbidden</th>\n",
       "      <td>25.984000</td>\n",
       "    </tr>\n",
       "    <tr>\n",
       "      <th>Frog</th>\n",
       "      <td>8.370000</td>\n",
       "    </tr>\n",
       "    <tr>\n",
       "      <th>From the Underworld</th>\n",
       "      <td>8.950000</td>\n",
       "    </tr>\n",
       "    <tr>\n",
       "      <th>Fur Hire</th>\n",
       "      <td>1.008000</td>\n",
       "    </tr>\n",
       "    <tr>\n",
       "      <th>Greed</th>\n",
       "      <td>10.439500</td>\n",
       "    </tr>\n",
       "    <tr>\n",
       "      <th>Guardian</th>\n",
       "      <td>128.072000</td>\n",
       "    </tr>\n",
       "    <tr>\n",
       "      <th>Guardragon</th>\n",
       "      <td>1.378000</td>\n",
       "    </tr>\n",
       "    <tr>\n",
       "      <th>Harpie</th>\n",
       "      <td>4.562000</td>\n",
       "    </tr>\n",
       "    <tr>\n",
       "      <th>Herald</th>\n",
       "      <td>5.224000</td>\n",
       "    </tr>\n",
       "    <tr>\n",
       "      <th>Hieratic</th>\n",
       "      <td>2.534000</td>\n",
       "    </tr>\n",
       "    <tr>\n",
       "      <th>Infinitrack</th>\n",
       "      <td>1.336000</td>\n",
       "    </tr>\n",
       "    <tr>\n",
       "      <th>Kashtira</th>\n",
       "      <td>10.123091</td>\n",
       "    </tr>\n",
       "    <tr>\n",
       "      <th>Knightmare</th>\n",
       "      <td>1.698667</td>\n",
       "    </tr>\n",
       "    <tr>\n",
       "      <th>Kuriboh</th>\n",
       "      <td>2.950000</td>\n",
       "    </tr>\n",
       "    <tr>\n",
       "      <th>Lyrilusc</th>\n",
       "      <td>0.674000</td>\n",
       "    </tr>\n",
       "    <tr>\n",
       "      <th>Mecha Phantom Beast</th>\n",
       "      <td>1.334000</td>\n",
       "    </tr>\n",
       "    <tr>\n",
       "      <th>Mist Valley</th>\n",
       "      <td>1.040000</td>\n",
       "    </tr>\n",
       "    <tr>\n",
       "      <th>Monarch</th>\n",
       "      <td>1.780000</td>\n",
       "    </tr>\n",
       "    <tr>\n",
       "      <th>Nimble</th>\n",
       "      <td>1.652000</td>\n",
       "    </tr>\n",
       "    <tr>\n",
       "      <th>Ninja</th>\n",
       "      <td>1.736000</td>\n",
       "    </tr>\n",
       "    <tr>\n",
       "      <th>PSY-Frame</th>\n",
       "      <td>3.552000</td>\n",
       "    </tr>\n",
       "    <tr>\n",
       "      <th>Predaplant</th>\n",
       "      <td>1.775000</td>\n",
       "    </tr>\n",
       "    <tr>\n",
       "      <th>Red-Eyes</th>\n",
       "      <td>18.448000</td>\n",
       "    </tr>\n",
       "    <tr>\n",
       "      <th>Salamangreat</th>\n",
       "      <td>1.300000</td>\n",
       "    </tr>\n",
       "    <tr>\n",
       "      <th>Solemn</th>\n",
       "      <td>1.490000</td>\n",
       "    </tr>\n",
       "    <tr>\n",
       "      <th>Spright</th>\n",
       "      <td>9.148000</td>\n",
       "    </tr>\n",
       "    <tr>\n",
       "      <th>Swordsoul</th>\n",
       "      <td>4.087714</td>\n",
       "    </tr>\n",
       "    <tr>\n",
       "      <th>Tearlaments</th>\n",
       "      <td>3.029200</td>\n",
       "    </tr>\n",
       "    <tr>\n",
       "      <th>Tenyi</th>\n",
       "      <td>2.114400</td>\n",
       "    </tr>\n",
       "    <tr>\n",
       "      <th>Therion</th>\n",
       "      <td>63.484000</td>\n",
       "    </tr>\n",
       "    <tr>\n",
       "      <th>Time Thief</th>\n",
       "      <td>1.674000</td>\n",
       "    </tr>\n",
       "    <tr>\n",
       "      <th>Tri-Brigade</th>\n",
       "      <td>5.102286</td>\n",
       "    </tr>\n",
       "    <tr>\n",
       "      <th>Yang Zing</th>\n",
       "      <td>1.280000</td>\n",
       "    </tr>\n",
       "  </tbody>\n",
       "</table>\n",
       "</div>"
      ],
      "text/plain": [
       "                        mean_price\n",
       "archetype                         \n",
       "Adventurer Token         14.255200\n",
       "Albaz Dragon              0.650000\n",
       "Ancient Warriors          4.586000\n",
       "Book of                   0.594000\n",
       "Borrel                    9.434000\n",
       "Branded                   1.992000\n",
       "Burning Abyss             0.528000\n",
       "Bystial                  19.491500\n",
       "Chaos                     4.434000\n",
       "Charmer                   3.962000\n",
       "Code Talker              13.232000\n",
       "Crystron                  1.422000\n",
       "D.D.                      2.328000\n",
       "Despia                    3.442400\n",
       "Destiny HERO              5.763000\n",
       "Dogmatika                 4.987000\n",
       "Dragunity                 1.369000\n",
       "Endymion                 14.766000\n",
       "Exchange of the Spirit    2.331000\n",
       "Eyes Restrict             2.512000\n",
       "Fire Formation            0.886000\n",
       "Fleur                    63.676000\n",
       "Floowandereeze            2.198000\n",
       "Forbidden                25.984000\n",
       "Frog                      8.370000\n",
       "From the Underworld       8.950000\n",
       "Fur Hire                  1.008000\n",
       "Greed                    10.439500\n",
       "Guardian                128.072000\n",
       "Guardragon                1.378000\n",
       "Harpie                    4.562000\n",
       "Herald                    5.224000\n",
       "Hieratic                  2.534000\n",
       "Infinitrack               1.336000\n",
       "Kashtira                 10.123091\n",
       "Knightmare                1.698667\n",
       "Kuriboh                   2.950000\n",
       "Lyrilusc                  0.674000\n",
       "Mecha Phantom Beast       1.334000\n",
       "Mist Valley               1.040000\n",
       "Monarch                   1.780000\n",
       "Nimble                    1.652000\n",
       "Ninja                     1.736000\n",
       "PSY-Frame                 3.552000\n",
       "Predaplant                1.775000\n",
       "Red-Eyes                 18.448000\n",
       "Salamangreat              1.300000\n",
       "Solemn                    1.490000\n",
       "Spright                   9.148000\n",
       "Swordsoul                 4.087714\n",
       "Tearlaments               3.029200\n",
       "Tenyi                     2.114400\n",
       "Therion                  63.484000\n",
       "Time Thief                1.674000\n",
       "Tri-Brigade               5.102286\n",
       "Yang Zing                 1.280000"
      ]
     },
     "execution_count": 30,
     "metadata": {},
     "output_type": "execute_result"
    }
   ],
   "source": [
    "df_archety = pd.DataFrame(df_topcards.groupby(df_topcards['archetype'])\n",
    "                                              [\"mean_price\"].mean())\n",
    "df_archety"
   ]
  },
  {
   "cell_type": "code",
   "execution_count": 9,
   "metadata": {},
   "outputs": [
    {
     "name": "stdout",
     "output_type": "stream",
     "text": [
      "<class 'pandas.core.frame.DataFrame'>\n",
      "RangeIndex: 200 entries, 0 to 199\n",
      "Data columns (total 20 columns):\n",
      " #   Column              Non-Null Count  Dtype  \n",
      "---  ------              --------------  -----  \n",
      " 0   id_                 200 non-null    int64  \n",
      " 1   name                200 non-null    object \n",
      " 2   type                200 non-null    object \n",
      " 3   frametype           200 non-null    object \n",
      " 4   desc                200 non-null    object \n",
      " 5   race                200 non-null    object \n",
      " 6   archetype           144 non-null    object \n",
      " 7   atk                 147 non-null    float64\n",
      " 8   def                 115 non-null    float64\n",
      " 9   level               115 non-null    float64\n",
      " 10  attribute           147 non-null    object \n",
      " 11  url_                200 non-null    object \n",
      " 12  cardmarket_price    200 non-null    float64\n",
      " 13  tcgplayer_price     200 non-null    float64\n",
      " 14  ebay_price          200 non-null    float64\n",
      " 15  amazon_price        200 non-null    float64\n",
      " 16  coolstuffinc_price  200 non-null    float64\n",
      " 17  mean_price          200 non-null    float64\n",
      " 18  decks               200 non-null    object \n",
      " 19  porcentage          200 non-null    object \n",
      "dtypes: float64(9), int64(1), object(10)\n",
      "memory usage: 31.4+ KB\n"
     ]
    }
   ],
   "source": [
    "df_topcards.info()"
   ]
  },
  {
   "cell_type": "code",
   "execution_count": 27,
   "metadata": {},
   "outputs": [
    {
     "data": {
      "application/vnd.plotly.v1+json": {
       "config": {
        "plotlyServerURL": "https://plot.ly"
       },
       "data": [
        {
         "alignmentgroup": "True",
         "bingroup": "x",
         "histfunc": "sum",
         "hovertemplate": "name=%{x}<br>sum of mean_price=%{y}<extra></extra>",
         "legendgroup": "",
         "marker": {
          "color": "#636efa",
          "pattern": {
           "shape": ""
          }
         },
         "name": "",
         "nbinsx": 25,
         "offsetgroup": "",
         "orientation": "v",
         "showlegend": false,
         "type": "histogram",
         "x": [
          "Ash Blossom & Joyous Spring",
          "Divine Arsenal AA-ZEUS - Sky Thunder",
          "Infinite Impermanence",
          "Called by the Grave",
          "Pot of Prosperity",
          "Terraforming",
          "Triple Tactics Talent",
          "Nibiru, the Primal Being",
          "Baronne de Fleur",
          "Accesscode Talker",
          "Dharc the Dark Charmer, Gloomy",
          "Garura, Wings of Resonant Life",
          "Effect Veiler",
          "Knightmare Unicorn",
          "Droll & Lock Bird",
          "Kashtira Fenrir",
          "PSY-Framegear Gamma",
          "PSY-Frame Driver",
          "Knightmare Phoenix",
          "Predaplant Dragostapelia",
          "Downerd Magician",
          "Pot of Desires",
          "Foolish Burial",
          "Number 41: Bagooska the Terribly Tired Tapir",
          "I:P Masquerena",
          "Spright Elf",
          "Spright Sprind",
          "Apollousa, Bow of the Goddess",
          "Elder Entity N'tss",
          "Forbidden Droplet",
          "Mudragon of the Swamp",
          "Bystial Druiswurm",
          "Bystial Magnamhut",
          "Instant Fusion",
          "Dark Ruler No More",
          "Donner, Dagger Fur Hire",
          "Kashtira Arise-Heart",
          "Salamangreat Almiraj",
          "Pressured Planet Wraitsoth",
          "Gigantic Spright",
          "Bystial Saronir",
          "PSY-Framelord Omega",
          "Abyss Dweller",
          "Kashtira Unicorn",
          "Kashtira Birth",
          "Kashtira Riseheart",
          "Ghost Ogre & Snow Rabbit",
          "Kashtira Shangri-Ira",
          "Dimension Shifter",
          "Scareclaw Kashtira",
          "Number 11: Big Eye",
          "Book of Moon",
          "Kashtiratheosis",
          "Spright Jet",
          "Kashtira Big Bang",
          "Spright Blue",
          "Spright Red",
          "Dark Armed, the Dragon of Annihilation",
          "Spright Starter",
          "Tearlaments Scheiren",
          "Tearlaments Havnis",
          "Tearlaments Merrli",
          "Primeval Planet Perlereino",
          "Tearlaments Reinoheart",
          "Spright Carrot",
          "Tearlaments Kaleido-Heart",
          "Tearlaments Kitkallos",
          "Tearlaments Sulliek",
          "Linguriboh",
          "Ghost Belle & Haunted Mansion",
          "Number 89: Diablosis the Mind Hacker",
          "Evenly Matched",
          "Spright Smashers",
          "Super Polymerization",
          "D.D. Crow",
          "Toadally Awesome",
          "Beatrice, Lady of the Eternal",
          "Infinitrack Goliath",
          "Predaplant Verte Anaconda",
          "Harpie's Feather Duster",
          "Tearlaments Rulkallos",
          "Keldo the Sacred Protector",
          "Crystron Halqifibrax",
          "Time Thief Redoer",
          "Mudora the Sword Oracle",
          "Kelbek the Ancient Vanguard",
          "Link Spider",
          "Rite of Aramesir",
          "Fateful Adventure",
          "Water Enchantress of the Temple",
          "Mecha Phantom Beast Dracossack",
          "Tearlaments Scream",
          "Dracoback, the Rideable Dragon",
          "Tri-Brigade Ferrijit the Barren Blossom",
          "Wandering Gryphon Rider",
          "Mirrorjade the Iceblade Dragon",
          "Underworld Goddess of the Closed World",
          "Fallen of Albaz",
          "Nimble Beaver",
          "Linkuriboh",
          "Albion the Branded Dragon",
          "Kashtira Ogre",
          "Branded Fusion",
          "Lubellion the Searing Dragon",
          "Onibimaru Soul Sweeper",
          "Swordsoul Supreme Sovereign - Chengying",
          "Lyrilusc - Assembled Nightingale",
          "Guardian Chimera",
          "Emergency Teleport",
          "Tri-Brigade Shuraig the Ominous Omen",
          "Nimble Angler",
          "Borreload Savage Dragon",
          "Herald of the Arc Light",
          "Aluber the Jester of Despia",
          "Herald of Orange Light",
          "Destiny HERO - Destroyer Phoenix Enforcer",
          "Fusion Destiny",
          "Branded Opening",
          "Pot of Duality",
          "Albion the Shrouded Dragon",
          "Agido the Ancient Sentinel",
          "Swap Frog",
          "Despian Tragedy",
          "Relinquished Anima",
          "Crossout Designator",
          "Branded in Red",
          "Destiny HERO - Celestial",
          "The Bystial Lubellion",
          "Dogmatika Punishment",
          "Knightmare Cerberus",
          "Mystic Mine",
          "Reinforcement of the Army",
          "Destiny HERO - Dasher",
          "Book of Eclipse",
          "Despian Quaeritis",
          "Cosmic Cyclone",
          "Number 29: Mannequin Cat",
          "Swordsoul Grandmaster - Chixiao",
          "Ghost Mourner & Moonlit Chill",
          "Triple Tactics Thrust",
          "Cynet Mining",
          "Incredible Ecclesia, the Virtuous",
          "Draco Berserker of the Tenyi",
          "Yazi, Evil of the Yang Zing",
          "Ad Libitum of Despia",
          "Diviner of the Herald",
          "Pot of Extravagance",
          "Tri-Brigade Nervall",
          "Fire Formation - Tenki",
          "Small World",
          "Tri-Brigade Mercourier",
          "Tri-Brigade Kitt",
          "Tri-Brigade Kerass",
          "Ancient Warriors Oath - Double Dragon Lords",
          "Splash Mage",
          "Branded Lost",
          "Swordsoul of Taia",
          "Selene, Queen of the Master Magicians",
          "Borrelsword Dragon",
          "Baxia, Brightness of the Yang Zing",
          "Monk of the Tenyi",
          "Striker Dragon",
          "Wollow, Founder of the Drudge Dragons",
          "Swordsoul Strategist Longyuan",
          "Swordsoul Blackout",
          "Tenyi Spirit - Vishuda",
          "Swordsoul of Mo Ye",
          "Tearlaments Cryme",
          "Tenyi Spirit - Adhara",
          "Tri-Brigade Fraktall",
          "Skill Drain",
          "Red-Eyes Dark Dragoon",
          "Hieratic Seal of the Heavenly Spheres",
          "Swordsoul Emergence",
          "Number 2: Ninja Shadow Mosquito",
          "Tenyi Spirit - Ashuna",
          "Mist Valley Apex Avian",
          "Polymerization",
          "Titaniklad the Ash Dragon",
          "Enemy Controller",
          "Therion \"King\" Regulus",
          "Fairy Tail - Snow",
          "Black Dragon Collapserpent",
          "Parallel eXceed",
          "Chaos Space",
          "White Dragon Wyverburster",
          "Masquerade the Blazing Dragon",
          "Guardragon Pisty",
          "Transcode Talker",
          "Chaofeng, Phantom of the Yang Zing",
          "Blazing Cartesia, the Virtuous",
          "Chaos Ruler, the Chaotic Magical Dragon",
          "Dragunity Knight - Romulus",
          "Dragon Ravine",
          "Solemn Strike",
          "Muckraker From the Underworld",
          "Raiza the Mega Monarch",
          "Floowandereeze & Empen",
          "Update Jammer",
          "Floowandereeze & Stri"
         ],
         "xaxis": "x",
         "y": [
          10.558,
          17.267999999999997,
          10.71,
          1.88,
          31.814,
          1.722,
          22.916,
          6.63,
          63.676,
          24.912,
          3.9620000000000006,
          14.148,
          2.33,
          1.996,
          6.268000000000001,
          33.488,
          8.6,
          0.826,
          1.59,
          1.11,
          0.8019999999999999,
          2.668,
          1.972,
          2.352,
          9.78,
          7.52,
          8.976,
          15.79,
          3.0860000000000003,
          25.984,
          1.578,
          6.4,
          12.552,
          0.952,
          2.214,
          1.008,
          16.558,
          1.3000000000000005,
          25.03,
          4.312,
          2.504,
          1.23,
          1.36,
          7.847999999999999,
          0.776,
          7.093999999999999,
          1.424,
          0.586,
          3.544,
          0.12,
          14.632,
          0.754,
          19.014,
          0.986,
          0.336,
          50.228,
          0.7180000000000001,
          10.678,
          8.872,
          1.37,
          1.126,
          0.9399999999999998,
          41.512,
          9.616,
          0.362,
          6.554,
          5.794,
          0.3399999999999999,
          1.39,
          2.386,
          1.984,
          10.358,
          0.358,
          4.24,
          2.3280000000000003,
          14.366,
          0.5279999999999999,
          1.336,
          2.4400000000000004,
          4.561999999999999,
          3.896,
          1.39,
          1.4220000000000002,
          1.674,
          1.516,
          3.672,
          2.198,
          23.748,
          10.034,
          35.878,
          1.334,
          0.312,
          0.8720000000000001,
          3.0900000000000003,
          0.744,
          0.768,
          3.552,
          8.05,
          1.974,
          4.51,
          0.562,
          0.504,
          2.2380000000000004,
          0.532,
          10.38,
          7.05,
          0.674,
          128.072,
          1.732,
          10.824,
          1.33,
          15.545999999999998,
          3.932,
          3.592,
          4.19,
          15.742,
          4.25,
          3.62,
          2.896,
          0.596,
          2.746,
          2.374,
          0.688,
          2.512,
          8.636,
          2.7920000000000003,
          1.094,
          56.510000000000005,
          1.924,
          1.5100000000000002,
          2.216,
          0.454,
          1.966,
          0.434,
          0.882,
          0.8219999999999998,
          0.954,
          3.188,
          0.946,
          62.822,
          3.508,
          8.196,
          4.688000000000001,
          0.982,
          1.102,
          7.55,
          4.38,
          1.91,
          0.8859999999999999,
          9.564,
          0.466,
          12.868,
          2.434,
          4.586,
          1.306,
          0.748,
          2.714,
          14.766,
          3.322,
          1.618,
          2.748,
          2.5780000000000003,
          0.7060000000000001,
          1.6800000000000002,
          0.494,
          1.124,
          8.638000000000002,
          0.344,
          0.736,
          4.1240000000000006,
          7.9,
          18.448,
          2.534,
          4.85,
          1.736,
          1.276,
          1.04,
          0.738,
          0.498,
          2.612,
          63.484,
          2.98,
          0.782,
          5.401999999999999,
          2.824,
          0.648,
          10.948,
          1.378,
          1.552,
          1.24,
          36.49,
          6.043999999999999,
          0.79,
          1.948,
          1.49,
          8.95,
          1.78,
          0.6,
          0.5740000000000001,
          3.796
         ],
         "yaxis": "y"
        }
       ],
       "layout": {
        "barmode": "relative",
        "legend": {
         "tracegroupgap": 0
        },
        "margin": {
         "t": 60
        },
        "template": {
         "data": {
          "bar": [
           {
            "error_x": {
             "color": "#2a3f5f"
            },
            "error_y": {
             "color": "#2a3f5f"
            },
            "marker": {
             "line": {
              "color": "#E5ECF6",
              "width": 0.5
             },
             "pattern": {
              "fillmode": "overlay",
              "size": 10,
              "solidity": 0.2
             }
            },
            "type": "bar"
           }
          ],
          "barpolar": [
           {
            "marker": {
             "line": {
              "color": "#E5ECF6",
              "width": 0.5
             },
             "pattern": {
              "fillmode": "overlay",
              "size": 10,
              "solidity": 0.2
             }
            },
            "type": "barpolar"
           }
          ],
          "carpet": [
           {
            "aaxis": {
             "endlinecolor": "#2a3f5f",
             "gridcolor": "white",
             "linecolor": "white",
             "minorgridcolor": "white",
             "startlinecolor": "#2a3f5f"
            },
            "baxis": {
             "endlinecolor": "#2a3f5f",
             "gridcolor": "white",
             "linecolor": "white",
             "minorgridcolor": "white",
             "startlinecolor": "#2a3f5f"
            },
            "type": "carpet"
           }
          ],
          "choropleth": [
           {
            "colorbar": {
             "outlinewidth": 0,
             "ticks": ""
            },
            "type": "choropleth"
           }
          ],
          "contour": [
           {
            "colorbar": {
             "outlinewidth": 0,
             "ticks": ""
            },
            "colorscale": [
             [
              0,
              "#0d0887"
             ],
             [
              0.1111111111111111,
              "#46039f"
             ],
             [
              0.2222222222222222,
              "#7201a8"
             ],
             [
              0.3333333333333333,
              "#9c179e"
             ],
             [
              0.4444444444444444,
              "#bd3786"
             ],
             [
              0.5555555555555556,
              "#d8576b"
             ],
             [
              0.6666666666666666,
              "#ed7953"
             ],
             [
              0.7777777777777778,
              "#fb9f3a"
             ],
             [
              0.8888888888888888,
              "#fdca26"
             ],
             [
              1,
              "#f0f921"
             ]
            ],
            "type": "contour"
           }
          ],
          "contourcarpet": [
           {
            "colorbar": {
             "outlinewidth": 0,
             "ticks": ""
            },
            "type": "contourcarpet"
           }
          ],
          "heatmap": [
           {
            "colorbar": {
             "outlinewidth": 0,
             "ticks": ""
            },
            "colorscale": [
             [
              0,
              "#0d0887"
             ],
             [
              0.1111111111111111,
              "#46039f"
             ],
             [
              0.2222222222222222,
              "#7201a8"
             ],
             [
              0.3333333333333333,
              "#9c179e"
             ],
             [
              0.4444444444444444,
              "#bd3786"
             ],
             [
              0.5555555555555556,
              "#d8576b"
             ],
             [
              0.6666666666666666,
              "#ed7953"
             ],
             [
              0.7777777777777778,
              "#fb9f3a"
             ],
             [
              0.8888888888888888,
              "#fdca26"
             ],
             [
              1,
              "#f0f921"
             ]
            ],
            "type": "heatmap"
           }
          ],
          "heatmapgl": [
           {
            "colorbar": {
             "outlinewidth": 0,
             "ticks": ""
            },
            "colorscale": [
             [
              0,
              "#0d0887"
             ],
             [
              0.1111111111111111,
              "#46039f"
             ],
             [
              0.2222222222222222,
              "#7201a8"
             ],
             [
              0.3333333333333333,
              "#9c179e"
             ],
             [
              0.4444444444444444,
              "#bd3786"
             ],
             [
              0.5555555555555556,
              "#d8576b"
             ],
             [
              0.6666666666666666,
              "#ed7953"
             ],
             [
              0.7777777777777778,
              "#fb9f3a"
             ],
             [
              0.8888888888888888,
              "#fdca26"
             ],
             [
              1,
              "#f0f921"
             ]
            ],
            "type": "heatmapgl"
           }
          ],
          "histogram": [
           {
            "marker": {
             "pattern": {
              "fillmode": "overlay",
              "size": 10,
              "solidity": 0.2
             }
            },
            "type": "histogram"
           }
          ],
          "histogram2d": [
           {
            "colorbar": {
             "outlinewidth": 0,
             "ticks": ""
            },
            "colorscale": [
             [
              0,
              "#0d0887"
             ],
             [
              0.1111111111111111,
              "#46039f"
             ],
             [
              0.2222222222222222,
              "#7201a8"
             ],
             [
              0.3333333333333333,
              "#9c179e"
             ],
             [
              0.4444444444444444,
              "#bd3786"
             ],
             [
              0.5555555555555556,
              "#d8576b"
             ],
             [
              0.6666666666666666,
              "#ed7953"
             ],
             [
              0.7777777777777778,
              "#fb9f3a"
             ],
             [
              0.8888888888888888,
              "#fdca26"
             ],
             [
              1,
              "#f0f921"
             ]
            ],
            "type": "histogram2d"
           }
          ],
          "histogram2dcontour": [
           {
            "colorbar": {
             "outlinewidth": 0,
             "ticks": ""
            },
            "colorscale": [
             [
              0,
              "#0d0887"
             ],
             [
              0.1111111111111111,
              "#46039f"
             ],
             [
              0.2222222222222222,
              "#7201a8"
             ],
             [
              0.3333333333333333,
              "#9c179e"
             ],
             [
              0.4444444444444444,
              "#bd3786"
             ],
             [
              0.5555555555555556,
              "#d8576b"
             ],
             [
              0.6666666666666666,
              "#ed7953"
             ],
             [
              0.7777777777777778,
              "#fb9f3a"
             ],
             [
              0.8888888888888888,
              "#fdca26"
             ],
             [
              1,
              "#f0f921"
             ]
            ],
            "type": "histogram2dcontour"
           }
          ],
          "mesh3d": [
           {
            "colorbar": {
             "outlinewidth": 0,
             "ticks": ""
            },
            "type": "mesh3d"
           }
          ],
          "parcoords": [
           {
            "line": {
             "colorbar": {
              "outlinewidth": 0,
              "ticks": ""
             }
            },
            "type": "parcoords"
           }
          ],
          "pie": [
           {
            "automargin": true,
            "type": "pie"
           }
          ],
          "scatter": [
           {
            "fillpattern": {
             "fillmode": "overlay",
             "size": 10,
             "solidity": 0.2
            },
            "type": "scatter"
           }
          ],
          "scatter3d": [
           {
            "line": {
             "colorbar": {
              "outlinewidth": 0,
              "ticks": ""
             }
            },
            "marker": {
             "colorbar": {
              "outlinewidth": 0,
              "ticks": ""
             }
            },
            "type": "scatter3d"
           }
          ],
          "scattercarpet": [
           {
            "marker": {
             "colorbar": {
              "outlinewidth": 0,
              "ticks": ""
             }
            },
            "type": "scattercarpet"
           }
          ],
          "scattergeo": [
           {
            "marker": {
             "colorbar": {
              "outlinewidth": 0,
              "ticks": ""
             }
            },
            "type": "scattergeo"
           }
          ],
          "scattergl": [
           {
            "marker": {
             "colorbar": {
              "outlinewidth": 0,
              "ticks": ""
             }
            },
            "type": "scattergl"
           }
          ],
          "scattermapbox": [
           {
            "marker": {
             "colorbar": {
              "outlinewidth": 0,
              "ticks": ""
             }
            },
            "type": "scattermapbox"
           }
          ],
          "scatterpolar": [
           {
            "marker": {
             "colorbar": {
              "outlinewidth": 0,
              "ticks": ""
             }
            },
            "type": "scatterpolar"
           }
          ],
          "scatterpolargl": [
           {
            "marker": {
             "colorbar": {
              "outlinewidth": 0,
              "ticks": ""
             }
            },
            "type": "scatterpolargl"
           }
          ],
          "scatterternary": [
           {
            "marker": {
             "colorbar": {
              "outlinewidth": 0,
              "ticks": ""
             }
            },
            "type": "scatterternary"
           }
          ],
          "surface": [
           {
            "colorbar": {
             "outlinewidth": 0,
             "ticks": ""
            },
            "colorscale": [
             [
              0,
              "#0d0887"
             ],
             [
              0.1111111111111111,
              "#46039f"
             ],
             [
              0.2222222222222222,
              "#7201a8"
             ],
             [
              0.3333333333333333,
              "#9c179e"
             ],
             [
              0.4444444444444444,
              "#bd3786"
             ],
             [
              0.5555555555555556,
              "#d8576b"
             ],
             [
              0.6666666666666666,
              "#ed7953"
             ],
             [
              0.7777777777777778,
              "#fb9f3a"
             ],
             [
              0.8888888888888888,
              "#fdca26"
             ],
             [
              1,
              "#f0f921"
             ]
            ],
            "type": "surface"
           }
          ],
          "table": [
           {
            "cells": {
             "fill": {
              "color": "#EBF0F8"
             },
             "line": {
              "color": "white"
             }
            },
            "header": {
             "fill": {
              "color": "#C8D4E3"
             },
             "line": {
              "color": "white"
             }
            },
            "type": "table"
           }
          ]
         },
         "layout": {
          "annotationdefaults": {
           "arrowcolor": "#2a3f5f",
           "arrowhead": 0,
           "arrowwidth": 1
          },
          "autotypenumbers": "strict",
          "coloraxis": {
           "colorbar": {
            "outlinewidth": 0,
            "ticks": ""
           }
          },
          "colorscale": {
           "diverging": [
            [
             0,
             "#8e0152"
            ],
            [
             0.1,
             "#c51b7d"
            ],
            [
             0.2,
             "#de77ae"
            ],
            [
             0.3,
             "#f1b6da"
            ],
            [
             0.4,
             "#fde0ef"
            ],
            [
             0.5,
             "#f7f7f7"
            ],
            [
             0.6,
             "#e6f5d0"
            ],
            [
             0.7,
             "#b8e186"
            ],
            [
             0.8,
             "#7fbc41"
            ],
            [
             0.9,
             "#4d9221"
            ],
            [
             1,
             "#276419"
            ]
           ],
           "sequential": [
            [
             0,
             "#0d0887"
            ],
            [
             0.1111111111111111,
             "#46039f"
            ],
            [
             0.2222222222222222,
             "#7201a8"
            ],
            [
             0.3333333333333333,
             "#9c179e"
            ],
            [
             0.4444444444444444,
             "#bd3786"
            ],
            [
             0.5555555555555556,
             "#d8576b"
            ],
            [
             0.6666666666666666,
             "#ed7953"
            ],
            [
             0.7777777777777778,
             "#fb9f3a"
            ],
            [
             0.8888888888888888,
             "#fdca26"
            ],
            [
             1,
             "#f0f921"
            ]
           ],
           "sequentialminus": [
            [
             0,
             "#0d0887"
            ],
            [
             0.1111111111111111,
             "#46039f"
            ],
            [
             0.2222222222222222,
             "#7201a8"
            ],
            [
             0.3333333333333333,
             "#9c179e"
            ],
            [
             0.4444444444444444,
             "#bd3786"
            ],
            [
             0.5555555555555556,
             "#d8576b"
            ],
            [
             0.6666666666666666,
             "#ed7953"
            ],
            [
             0.7777777777777778,
             "#fb9f3a"
            ],
            [
             0.8888888888888888,
             "#fdca26"
            ],
            [
             1,
             "#f0f921"
            ]
           ]
          },
          "colorway": [
           "#636efa",
           "#EF553B",
           "#00cc96",
           "#ab63fa",
           "#FFA15A",
           "#19d3f3",
           "#FF6692",
           "#B6E880",
           "#FF97FF",
           "#FECB52"
          ],
          "font": {
           "color": "#2a3f5f"
          },
          "geo": {
           "bgcolor": "white",
           "lakecolor": "white",
           "landcolor": "#E5ECF6",
           "showlakes": true,
           "showland": true,
           "subunitcolor": "white"
          },
          "hoverlabel": {
           "align": "left"
          },
          "hovermode": "closest",
          "mapbox": {
           "style": "light"
          },
          "paper_bgcolor": "white",
          "plot_bgcolor": "#E5ECF6",
          "polar": {
           "angularaxis": {
            "gridcolor": "white",
            "linecolor": "white",
            "ticks": ""
           },
           "bgcolor": "#E5ECF6",
           "radialaxis": {
            "gridcolor": "white",
            "linecolor": "white",
            "ticks": ""
           }
          },
          "scene": {
           "xaxis": {
            "backgroundcolor": "#E5ECF6",
            "gridcolor": "white",
            "gridwidth": 2,
            "linecolor": "white",
            "showbackground": true,
            "ticks": "",
            "zerolinecolor": "white"
           },
           "yaxis": {
            "backgroundcolor": "#E5ECF6",
            "gridcolor": "white",
            "gridwidth": 2,
            "linecolor": "white",
            "showbackground": true,
            "ticks": "",
            "zerolinecolor": "white"
           },
           "zaxis": {
            "backgroundcolor": "#E5ECF6",
            "gridcolor": "white",
            "gridwidth": 2,
            "linecolor": "white",
            "showbackground": true,
            "ticks": "",
            "zerolinecolor": "white"
           }
          },
          "shapedefaults": {
           "line": {
            "color": "#2a3f5f"
           }
          },
          "ternary": {
           "aaxis": {
            "gridcolor": "white",
            "linecolor": "white",
            "ticks": ""
           },
           "baxis": {
            "gridcolor": "white",
            "linecolor": "white",
            "ticks": ""
           },
           "bgcolor": "#E5ECF6",
           "caxis": {
            "gridcolor": "white",
            "linecolor": "white",
            "ticks": ""
           }
          },
          "title": {
           "x": 0.05
          },
          "xaxis": {
           "automargin": true,
           "gridcolor": "white",
           "linecolor": "white",
           "ticks": "",
           "title": {
            "standoff": 15
           },
           "zerolinecolor": "white",
           "zerolinewidth": 2
          },
          "yaxis": {
           "automargin": true,
           "gridcolor": "white",
           "linecolor": "white",
           "ticks": "",
           "title": {
            "standoff": 15
           },
           "zerolinecolor": "white",
           "zerolinewidth": 2
          }
         }
        },
        "xaxis": {
         "anchor": "y",
         "domain": [
          0,
          1
         ],
         "title": {
          "text": "name"
         }
        },
        "yaxis": {
         "anchor": "x",
         "domain": [
          0,
          1
         ],
         "title": {
          "text": "sum of mean_price"
         }
        }
       }
      }
     },
     "metadata": {},
     "output_type": "display_data"
    }
   ],
   "source": [
    "\n",
    "fig2 = px.histogram(df_topcards, \n",
    "                    x = \"name\", \n",
    "                    y = \"mean_price\", \n",
    "                    nbins = 25)\n",
    "\n",
    "fig2.show()\n"
   ]
  },
  {
   "cell_type": "code",
   "execution_count": 7,
   "metadata": {},
   "outputs": [
    {
     "data": {
      "application/vnd.plotly.v1+json": {
       "config": {
        "plotlyServerURL": "https://plot.ly"
       },
       "data": [
        {
         "alignmentgroup": "True",
         "hovertemplate": "name=%{x}<br>mean_price=%{y}<extra></extra>",
         "legendgroup": "",
         "marker": {
          "color": "#636efa",
          "pattern": {
           "shape": ""
          }
         },
         "name": "",
         "offsetgroup": "",
         "orientation": "v",
         "showlegend": false,
         "textposition": "auto",
         "type": "bar",
         "x": [
          "Abyss Dweller",
          "Accesscode Talker",
          "Ad Libitum of Despia",
          "Agido the Ancient Sentinel",
          "Albion the Branded Dragon",
          "Albion the Shrouded Dragon",
          "Aluber the Jester of Despia",
          "Ancient Warriors Oath - Double Dragon Lords",
          "Apollousa, Bow of the Goddess",
          "Ash Blossom & Joyous Spring",
          "Baronne de Fleur",
          "Baxia, Brightness of the Yang Zing",
          "Beatrice, Lady of the Eternal",
          "Black Dragon Collapserpent",
          "Book of Eclipse",
          "Book of Moon",
          "Borreload Savage Dragon",
          "Borrelsword Dragon",
          "Branded Fusion",
          "Branded in Red",
          "Branded Lost",
          "Branded Opening",
          "Bystial Druiswurm",
          "Bystial Magnamhut",
          "Bystial Saronir",
          "Called by the Grave",
          "Chaofeng, Phantom of the Yang Zing",
          "Chaos Ruler, the Chaotic Magical Dragon",
          "Chaos Space",
          "Cosmic Cyclone",
          "Crossout Designator",
          "Crystron Halqifibrax",
          "Cynet Mining",
          "D.D. Crow",
          "Dark Armed, the Dragon of Annihilation",
          "Dark Ruler No More",
          "Despian Quaeritis",
          "Despian Tragedy",
          "Destiny HERO - Celestial",
          "Destiny HERO - Dasher",
          "Destiny HERO - Destroyer Phoenix Enforcer",
          "Dharc the Dark Charmer, Gloomy",
          "Dimension Shifter",
          "Divine Arsenal AA-ZEUS - Sky Thunder",
          "Diviner of the Herald",
          "Dogmatika Punishment",
          "Donner, Dagger Fur Hire",
          "Downerd Magician",
          "Draco Berserker of the Tenyi",
          "Dracoback, the Rideable Dragon",
          "Droll & Lock Bird",
          "Effect Veiler",
          "Elder Entity N'tss",
          "Emergency Teleport",
          "Enemy Controller",
          "Evenly Matched",
          "Fairy Tail - Snow",
          "Fallen of Albaz",
          "Fateful Adventure",
          "Fire Formation - Tenki",
          "Floowandereeze & Empen",
          "Floowandereeze & Robina",
          "Floowandereeze & Stri",
          "Floowandereeze & Toccan",
          "Floowandereeze and the Magnificent Map",
          "Foolish Burial",
          "Forbidden Droplet",
          "Fusion Destiny",
          "Garura, Wings of Resonant Life",
          "Ghost Belle & Haunted Mansion",
          "Ghost Mourner & Moonlit Chill",
          "Ghost Ogre & Snow Rabbit",
          "Gigantic Spright",
          "Guardian Chimera",
          "Guardragon Pisty",
          "Harpie's Feather Duster",
          "Herald of Orange Light",
          "Herald of the Arc Light",
          "Hieratic Seal of the Heavenly Spheres",
          "I:P Masquerena",
          "Incredible Ecclesia, the Virtuous",
          "Infinite Impermanence",
          "Infinitrack Goliath",
          "Instant Fusion",
          "Kashtira Arise-Heart",
          "Kashtira Big Bang",
          "Kashtira Birth",
          "Kashtira Fenrir",
          "Kashtira Ogre",
          "Kashtira Riseheart",
          "Kashtira Shangri-Ira",
          "Kashtira Unicorn",
          "Kashtiratheosis",
          "Kelbek the Ancient Vanguard",
          "Keldo the Sacred Protector",
          "Knightmare Cerberus",
          "Knightmare Phoenix",
          "Knightmare Unicorn",
          "Linguriboh",
          "Link Spider",
          "Linkuriboh",
          "Lubellion the Searing Dragon",
          "Lyrilusc - Assembled Nightingale",
          "Masquerade the Blazing Dragon",
          "Mecha Phantom Beast Dracossack",
          "Mirrorjade the Iceblade Dragon",
          "Mist Valley Apex Avian",
          "Monk of the Tenyi",
          "Mudora the Sword Oracle",
          "Mudragon of the Swamp",
          "Mystic Mine",
          "Nibiru, the Primal Being",
          "Nimble Angler",
          "Nimble Beaver",
          "Number 11: Big Eye",
          "Number 29: Mannequin Cat",
          "Number 2: Ninja Shadow Mosquito",
          "Number 41: Bagooska the Terribly Tired Tapir",
          "Number 89: Diablosis the Mind Hacker",
          "Onibimaru Soul Sweeper",
          "Parallel eXceed",
          "Polymerization",
          "Pot of Desires",
          "Pot of Duality",
          "Pot of Extravagance",
          "Pot of Prosperity",
          "Predaplant Dragostapelia",
          "Predaplant Verte Anaconda",
          "Pressured Planet Wraitsoth",
          "Primeval Planet Perlereino",
          "PSY-Frame Driver",
          "PSY-Framegear Gamma",
          "PSY-Framelord Omega",
          "Raiza the Mega Monarch",
          "Red-Eyes Dark Dragoon",
          "Reinforcement of the Army",
          "Relinquished Anima",
          "Rite of Aramesir",
          "Salamangreat Almiraj",
          "Scareclaw Kashtira",
          "Selene, Queen of the Master Magicians",
          "Shaman of the Tenyi",
          "Skill Drain",
          "Small World",
          "Splash Mage",
          "Spright Blue",
          "Spright Carrot",
          "Spright Elf",
          "Spright Jet",
          "Spright Red",
          "Spright Smashers",
          "Spright Sprind",
          "Spright Starter",
          "Striker Dragon",
          "Super Polymerization",
          "Swap Frog",
          "Swordsoul Blackout",
          "Swordsoul Emergence",
          "Swordsoul Grandmaster - Chixiao",
          "Swordsoul of Mo Ye",
          "Swordsoul of Taia",
          "Swordsoul Strategist Longyuan",
          "Swordsoul Supreme Sovereign - Chengying",
          "Tearlaments Cryme",
          "Tearlaments Havnis",
          "Tearlaments Kaleido-Heart",
          "Tearlaments Kitkallos",
          "Tearlaments Merrli",
          "Tearlaments Reinoheart",
          "Tearlaments Rulkallos",
          "Tearlaments Scheiren",
          "Tearlaments Scream",
          "Tearlaments Sulliek",
          "Tenyi Spirit - Adhara",
          "Tenyi Spirit - Ashuna",
          "Tenyi Spirit - Vishuda",
          "Terraforming",
          "The Bystial Lubellion",
          "Therion \"King\" Regulus",
          "Time Thief Redoer",
          "Titaniklad the Ash Dragon",
          "Toadally Awesome",
          "Transcode Talker",
          "Tri-Brigade Ferrijit the Barren Blossom",
          "Tri-Brigade Fraktall",
          "Tri-Brigade Kerass",
          "Tri-Brigade Kitt",
          "Tri-Brigade Mercourier",
          "Tri-Brigade Nervall",
          "Tri-Brigade Revolt",
          "Tri-Brigade Shuraig the Ominous Omen",
          "Triple Tactics Talent",
          "Triple Tactics Thrust",
          "Underworld Goddess of the Closed World",
          "Update Jammer",
          "Wandering Gryphon Rider",
          "Water Enchantress of the Temple",
          "White Dragon Wyverburster",
          "Wollow, Founder of the Drudge Dragons",
          "Yazi, Evil of the Yang Zing"
         ],
         "xaxis": "x",
         "y": [
          1.36,
          24.912,
          1.102,
          2.746,
          0.562,
          0.596,
          3.592,
          4.586,
          15.79,
          10.558,
          63.676,
          1.618,
          0.5279999999999999,
          0.782,
          0.434,
          0.754,
          15.545999999999998,
          3.322,
          2.2380000000000004,
          2.7920000000000003,
          0.748,
          3.62,
          6.4,
          12.552,
          2.504,
          1.88,
          1.24,
          6.043999999999999,
          2.824,
          0.8219999999999998,
          8.636,
          1.4220000000000002,
          3.508,
          2.3280000000000003,
          10.678,
          2.214,
          0.882,
          0.688,
          1.094,
          1.966,
          15.742,
          3.9620000000000006,
          3.544,
          17.267999999999997,
          7.55,
          1.924,
          1.008,
          0.8019999999999999,
          4.688000000000001,
          0.8720000000000001,
          6.268000000000001,
          2.33,
          3.0860000000000003,
          1.732,
          2.612,
          10.358,
          2.98,
          8.05,
          10.034,
          0.8859999999999999,
          0.6,
          0.694,
          3.796,
          0.45,
          1.5219999999999998,
          1.972,
          25.984,
          4.25,
          14.148,
          2.386,
          0.946,
          1.424,
          4.312,
          128.072,
          1.378,
          4.561999999999999,
          4.19,
          3.932,
          2.534,
          9.78,
          8.196,
          10.71,
          1.336,
          0.952,
          16.558,
          0.336,
          0.776,
          33.488,
          0.504,
          7.093999999999999,
          0.586,
          7.847999999999999,
          19.014,
          3.672,
          1.39,
          1.5100000000000002,
          1.59,
          1.996,
          1.39,
          2.198,
          4.51,
          0.532,
          0.674,
          10.948,
          1.334,
          0.768,
          1.04,
          2.748,
          1.516,
          1.578,
          2.216,
          6.63,
          1.33,
          1.974,
          14.632,
          0.954,
          1.736,
          2.352,
          1.984,
          10.38,
          5.401999999999999,
          0.738,
          2.668,
          2.896,
          4.38,
          31.814,
          1.11,
          2.4400000000000004,
          25.03,
          41.512,
          0.826,
          8.6,
          1.23,
          1.78,
          18.448,
          0.454,
          2.512,
          23.748,
          1.3000000000000005,
          0.12,
          14.766,
          1.96,
          7.9,
          9.564,
          1.306,
          50.228,
          0.362,
          7.52,
          0.986,
          0.7180000000000001,
          0.358,
          8.976,
          8.872,
          2.5780000000000003,
          4.24,
          2.374,
          0.494,
          4.85,
          3.188,
          8.638000000000002,
          2.714,
          1.6800000000000002,
          7.05,
          0.344,
          1.126,
          6.554,
          5.794,
          0.9399999999999998,
          9.616,
          3.896,
          1.37,
          0.312,
          0.3399999999999999,
          0.736,
          1.276,
          1.124,
          1.722,
          56.510000000000005,
          63.484,
          1.674,
          0.498,
          14.366,
          1.552,
          3.0900000000000003,
          4.1240000000000006,
          2.434,
          12.868,
          0.466,
          1.91,
          3.24,
          10.824,
          22.916,
          62.822,
          3.552,
          0.5740000000000001,
          0.744,
          35.878,
          0.648,
          0.7060000000000001,
          0.982
         ],
         "yaxis": "y"
        }
       ],
       "layout": {
        "barmode": "relative",
        "legend": {
         "tracegroupgap": 0
        },
        "margin": {
         "t": 60
        },
        "template": {
         "data": {
          "bar": [
           {
            "error_x": {
             "color": "#2a3f5f"
            },
            "error_y": {
             "color": "#2a3f5f"
            },
            "marker": {
             "line": {
              "color": "#E5ECF6",
              "width": 0.5
             },
             "pattern": {
              "fillmode": "overlay",
              "size": 10,
              "solidity": 0.2
             }
            },
            "type": "bar"
           }
          ],
          "barpolar": [
           {
            "marker": {
             "line": {
              "color": "#E5ECF6",
              "width": 0.5
             },
             "pattern": {
              "fillmode": "overlay",
              "size": 10,
              "solidity": 0.2
             }
            },
            "type": "barpolar"
           }
          ],
          "carpet": [
           {
            "aaxis": {
             "endlinecolor": "#2a3f5f",
             "gridcolor": "white",
             "linecolor": "white",
             "minorgridcolor": "white",
             "startlinecolor": "#2a3f5f"
            },
            "baxis": {
             "endlinecolor": "#2a3f5f",
             "gridcolor": "white",
             "linecolor": "white",
             "minorgridcolor": "white",
             "startlinecolor": "#2a3f5f"
            },
            "type": "carpet"
           }
          ],
          "choropleth": [
           {
            "colorbar": {
             "outlinewidth": 0,
             "ticks": ""
            },
            "type": "choropleth"
           }
          ],
          "contour": [
           {
            "colorbar": {
             "outlinewidth": 0,
             "ticks": ""
            },
            "colorscale": [
             [
              0,
              "#0d0887"
             ],
             [
              0.1111111111111111,
              "#46039f"
             ],
             [
              0.2222222222222222,
              "#7201a8"
             ],
             [
              0.3333333333333333,
              "#9c179e"
             ],
             [
              0.4444444444444444,
              "#bd3786"
             ],
             [
              0.5555555555555556,
              "#d8576b"
             ],
             [
              0.6666666666666666,
              "#ed7953"
             ],
             [
              0.7777777777777778,
              "#fb9f3a"
             ],
             [
              0.8888888888888888,
              "#fdca26"
             ],
             [
              1,
              "#f0f921"
             ]
            ],
            "type": "contour"
           }
          ],
          "contourcarpet": [
           {
            "colorbar": {
             "outlinewidth": 0,
             "ticks": ""
            },
            "type": "contourcarpet"
           }
          ],
          "heatmap": [
           {
            "colorbar": {
             "outlinewidth": 0,
             "ticks": ""
            },
            "colorscale": [
             [
              0,
              "#0d0887"
             ],
             [
              0.1111111111111111,
              "#46039f"
             ],
             [
              0.2222222222222222,
              "#7201a8"
             ],
             [
              0.3333333333333333,
              "#9c179e"
             ],
             [
              0.4444444444444444,
              "#bd3786"
             ],
             [
              0.5555555555555556,
              "#d8576b"
             ],
             [
              0.6666666666666666,
              "#ed7953"
             ],
             [
              0.7777777777777778,
              "#fb9f3a"
             ],
             [
              0.8888888888888888,
              "#fdca26"
             ],
             [
              1,
              "#f0f921"
             ]
            ],
            "type": "heatmap"
           }
          ],
          "heatmapgl": [
           {
            "colorbar": {
             "outlinewidth": 0,
             "ticks": ""
            },
            "colorscale": [
             [
              0,
              "#0d0887"
             ],
             [
              0.1111111111111111,
              "#46039f"
             ],
             [
              0.2222222222222222,
              "#7201a8"
             ],
             [
              0.3333333333333333,
              "#9c179e"
             ],
             [
              0.4444444444444444,
              "#bd3786"
             ],
             [
              0.5555555555555556,
              "#d8576b"
             ],
             [
              0.6666666666666666,
              "#ed7953"
             ],
             [
              0.7777777777777778,
              "#fb9f3a"
             ],
             [
              0.8888888888888888,
              "#fdca26"
             ],
             [
              1,
              "#f0f921"
             ]
            ],
            "type": "heatmapgl"
           }
          ],
          "histogram": [
           {
            "marker": {
             "pattern": {
              "fillmode": "overlay",
              "size": 10,
              "solidity": 0.2
             }
            },
            "type": "histogram"
           }
          ],
          "histogram2d": [
           {
            "colorbar": {
             "outlinewidth": 0,
             "ticks": ""
            },
            "colorscale": [
             [
              0,
              "#0d0887"
             ],
             [
              0.1111111111111111,
              "#46039f"
             ],
             [
              0.2222222222222222,
              "#7201a8"
             ],
             [
              0.3333333333333333,
              "#9c179e"
             ],
             [
              0.4444444444444444,
              "#bd3786"
             ],
             [
              0.5555555555555556,
              "#d8576b"
             ],
             [
              0.6666666666666666,
              "#ed7953"
             ],
             [
              0.7777777777777778,
              "#fb9f3a"
             ],
             [
              0.8888888888888888,
              "#fdca26"
             ],
             [
              1,
              "#f0f921"
             ]
            ],
            "type": "histogram2d"
           }
          ],
          "histogram2dcontour": [
           {
            "colorbar": {
             "outlinewidth": 0,
             "ticks": ""
            },
            "colorscale": [
             [
              0,
              "#0d0887"
             ],
             [
              0.1111111111111111,
              "#46039f"
             ],
             [
              0.2222222222222222,
              "#7201a8"
             ],
             [
              0.3333333333333333,
              "#9c179e"
             ],
             [
              0.4444444444444444,
              "#bd3786"
             ],
             [
              0.5555555555555556,
              "#d8576b"
             ],
             [
              0.6666666666666666,
              "#ed7953"
             ],
             [
              0.7777777777777778,
              "#fb9f3a"
             ],
             [
              0.8888888888888888,
              "#fdca26"
             ],
             [
              1,
              "#f0f921"
             ]
            ],
            "type": "histogram2dcontour"
           }
          ],
          "mesh3d": [
           {
            "colorbar": {
             "outlinewidth": 0,
             "ticks": ""
            },
            "type": "mesh3d"
           }
          ],
          "parcoords": [
           {
            "line": {
             "colorbar": {
              "outlinewidth": 0,
              "ticks": ""
             }
            },
            "type": "parcoords"
           }
          ],
          "pie": [
           {
            "automargin": true,
            "type": "pie"
           }
          ],
          "scatter": [
           {
            "fillpattern": {
             "fillmode": "overlay",
             "size": 10,
             "solidity": 0.2
            },
            "type": "scatter"
           }
          ],
          "scatter3d": [
           {
            "line": {
             "colorbar": {
              "outlinewidth": 0,
              "ticks": ""
             }
            },
            "marker": {
             "colorbar": {
              "outlinewidth": 0,
              "ticks": ""
             }
            },
            "type": "scatter3d"
           }
          ],
          "scattercarpet": [
           {
            "marker": {
             "colorbar": {
              "outlinewidth": 0,
              "ticks": ""
             }
            },
            "type": "scattercarpet"
           }
          ],
          "scattergeo": [
           {
            "marker": {
             "colorbar": {
              "outlinewidth": 0,
              "ticks": ""
             }
            },
            "type": "scattergeo"
           }
          ],
          "scattergl": [
           {
            "marker": {
             "colorbar": {
              "outlinewidth": 0,
              "ticks": ""
             }
            },
            "type": "scattergl"
           }
          ],
          "scattermapbox": [
           {
            "marker": {
             "colorbar": {
              "outlinewidth": 0,
              "ticks": ""
             }
            },
            "type": "scattermapbox"
           }
          ],
          "scatterpolar": [
           {
            "marker": {
             "colorbar": {
              "outlinewidth": 0,
              "ticks": ""
             }
            },
            "type": "scatterpolar"
           }
          ],
          "scatterpolargl": [
           {
            "marker": {
             "colorbar": {
              "outlinewidth": 0,
              "ticks": ""
             }
            },
            "type": "scatterpolargl"
           }
          ],
          "scatterternary": [
           {
            "marker": {
             "colorbar": {
              "outlinewidth": 0,
              "ticks": ""
             }
            },
            "type": "scatterternary"
           }
          ],
          "surface": [
           {
            "colorbar": {
             "outlinewidth": 0,
             "ticks": ""
            },
            "colorscale": [
             [
              0,
              "#0d0887"
             ],
             [
              0.1111111111111111,
              "#46039f"
             ],
             [
              0.2222222222222222,
              "#7201a8"
             ],
             [
              0.3333333333333333,
              "#9c179e"
             ],
             [
              0.4444444444444444,
              "#bd3786"
             ],
             [
              0.5555555555555556,
              "#d8576b"
             ],
             [
              0.6666666666666666,
              "#ed7953"
             ],
             [
              0.7777777777777778,
              "#fb9f3a"
             ],
             [
              0.8888888888888888,
              "#fdca26"
             ],
             [
              1,
              "#f0f921"
             ]
            ],
            "type": "surface"
           }
          ],
          "table": [
           {
            "cells": {
             "fill": {
              "color": "#EBF0F8"
             },
             "line": {
              "color": "white"
             }
            },
            "header": {
             "fill": {
              "color": "#C8D4E3"
             },
             "line": {
              "color": "white"
             }
            },
            "type": "table"
           }
          ]
         },
         "layout": {
          "annotationdefaults": {
           "arrowcolor": "#2a3f5f",
           "arrowhead": 0,
           "arrowwidth": 1
          },
          "autotypenumbers": "strict",
          "coloraxis": {
           "colorbar": {
            "outlinewidth": 0,
            "ticks": ""
           }
          },
          "colorscale": {
           "diverging": [
            [
             0,
             "#8e0152"
            ],
            [
             0.1,
             "#c51b7d"
            ],
            [
             0.2,
             "#de77ae"
            ],
            [
             0.3,
             "#f1b6da"
            ],
            [
             0.4,
             "#fde0ef"
            ],
            [
             0.5,
             "#f7f7f7"
            ],
            [
             0.6,
             "#e6f5d0"
            ],
            [
             0.7,
             "#b8e186"
            ],
            [
             0.8,
             "#7fbc41"
            ],
            [
             0.9,
             "#4d9221"
            ],
            [
             1,
             "#276419"
            ]
           ],
           "sequential": [
            [
             0,
             "#0d0887"
            ],
            [
             0.1111111111111111,
             "#46039f"
            ],
            [
             0.2222222222222222,
             "#7201a8"
            ],
            [
             0.3333333333333333,
             "#9c179e"
            ],
            [
             0.4444444444444444,
             "#bd3786"
            ],
            [
             0.5555555555555556,
             "#d8576b"
            ],
            [
             0.6666666666666666,
             "#ed7953"
            ],
            [
             0.7777777777777778,
             "#fb9f3a"
            ],
            [
             0.8888888888888888,
             "#fdca26"
            ],
            [
             1,
             "#f0f921"
            ]
           ],
           "sequentialminus": [
            [
             0,
             "#0d0887"
            ],
            [
             0.1111111111111111,
             "#46039f"
            ],
            [
             0.2222222222222222,
             "#7201a8"
            ],
            [
             0.3333333333333333,
             "#9c179e"
            ],
            [
             0.4444444444444444,
             "#bd3786"
            ],
            [
             0.5555555555555556,
             "#d8576b"
            ],
            [
             0.6666666666666666,
             "#ed7953"
            ],
            [
             0.7777777777777778,
             "#fb9f3a"
            ],
            [
             0.8888888888888888,
             "#fdca26"
            ],
            [
             1,
             "#f0f921"
            ]
           ]
          },
          "colorway": [
           "#636efa",
           "#EF553B",
           "#00cc96",
           "#ab63fa",
           "#FFA15A",
           "#19d3f3",
           "#FF6692",
           "#B6E880",
           "#FF97FF",
           "#FECB52"
          ],
          "font": {
           "color": "#2a3f5f"
          },
          "geo": {
           "bgcolor": "white",
           "lakecolor": "white",
           "landcolor": "#E5ECF6",
           "showlakes": true,
           "showland": true,
           "subunitcolor": "white"
          },
          "hoverlabel": {
           "align": "left"
          },
          "hovermode": "closest",
          "mapbox": {
           "style": "light"
          },
          "paper_bgcolor": "white",
          "plot_bgcolor": "#E5ECF6",
          "polar": {
           "angularaxis": {
            "gridcolor": "white",
            "linecolor": "white",
            "ticks": ""
           },
           "bgcolor": "#E5ECF6",
           "radialaxis": {
            "gridcolor": "white",
            "linecolor": "white",
            "ticks": ""
           }
          },
          "scene": {
           "xaxis": {
            "backgroundcolor": "#E5ECF6",
            "gridcolor": "white",
            "gridwidth": 2,
            "linecolor": "white",
            "showbackground": true,
            "ticks": "",
            "zerolinecolor": "white"
           },
           "yaxis": {
            "backgroundcolor": "#E5ECF6",
            "gridcolor": "white",
            "gridwidth": 2,
            "linecolor": "white",
            "showbackground": true,
            "ticks": "",
            "zerolinecolor": "white"
           },
           "zaxis": {
            "backgroundcolor": "#E5ECF6",
            "gridcolor": "white",
            "gridwidth": 2,
            "linecolor": "white",
            "showbackground": true,
            "ticks": "",
            "zerolinecolor": "white"
           }
          },
          "shapedefaults": {
           "line": {
            "color": "#2a3f5f"
           }
          },
          "ternary": {
           "aaxis": {
            "gridcolor": "white",
            "linecolor": "white",
            "ticks": ""
           },
           "baxis": {
            "gridcolor": "white",
            "linecolor": "white",
            "ticks": ""
           },
           "bgcolor": "#E5ECF6",
           "caxis": {
            "gridcolor": "white",
            "linecolor": "white",
            "ticks": ""
           }
          },
          "title": {
           "x": 0.05
          },
          "xaxis": {
           "automargin": true,
           "gridcolor": "white",
           "linecolor": "white",
           "ticks": "",
           "title": {
            "standoff": 15
           },
           "zerolinecolor": "white",
           "zerolinewidth": 2
          },
          "yaxis": {
           "automargin": true,
           "gridcolor": "white",
           "linecolor": "white",
           "ticks": "",
           "title": {
            "standoff": 15
           },
           "zerolinecolor": "white",
           "zerolinewidth": 2
          }
         }
        },
        "title": {
         "text": "Precios de las cartas más jugadas"
        },
        "xaxis": {
         "anchor": "y",
         "domain": [
          0,
          1
         ],
         "title": {
          "text": "Cartas más jugadas"
         }
        },
        "yaxis": {
         "anchor": "x",
         "domain": [
          0,
          1
         ],
         "title": {
          "text": "Precios"
         }
        }
       }
      }
     },
     "metadata": {},
     "output_type": "display_data"
    }
   ],
   "source": [
    "fig = px.bar(df_topcards, x='name', y='mean_price')\n",
    "\n",
    "# Ajustar el diseño y las opciones del gráfico\n",
    "fig.update_layout(\n",
    "    title='Precios de las cartas más jugadas',\n",
    "    xaxis_title='Cartas más jugadas',\n",
    "    yaxis_title='Precios'\n",
    ")\n",
    "\n",
    "# Mostrar el gráfico\n",
    "fig.show()"
   ]
  },
  {
   "cell_type": "code",
   "execution_count": 4,
   "metadata": {},
   "outputs": [
    {
     "name": "stdout",
     "output_type": "stream",
     "text": [
      "Requirement already satisfied: nbformat in c:\\users\\dilan\\appdata\\local\\programs\\python\\python311\\lib\\site-packages (5.9.1)\n",
      "Requirement already satisfied: fastjsonschema in c:\\users\\dilan\\appdata\\local\\programs\\python\\python311\\lib\\site-packages (from nbformat) (2.17.1)\n",
      "Requirement already satisfied: jsonschema>=2.6 in c:\\users\\dilan\\appdata\\local\\programs\\python\\python311\\lib\\site-packages (from nbformat) (4.18.3)\n",
      "Requirement already satisfied: jupyter-core in c:\\users\\dilan\\appdata\\roaming\\python\\python311\\site-packages (from nbformat) (5.3.0)\n",
      "Requirement already satisfied: traitlets>=5.1 in c:\\users\\dilan\\appdata\\roaming\\python\\python311\\site-packages (from nbformat) (5.9.0)\n",
      "Requirement already satisfied: attrs>=22.2.0 in c:\\users\\dilan\\appdata\\local\\programs\\python\\python311\\lib\\site-packages (from jsonschema>=2.6->nbformat) (23.1.0)\n",
      "Requirement already satisfied: jsonschema-specifications>=2023.03.6 in c:\\users\\dilan\\appdata\\local\\programs\\python\\python311\\lib\\site-packages (from jsonschema>=2.6->nbformat) (2023.6.1)\n",
      "Requirement already satisfied: referencing>=0.28.4 in c:\\users\\dilan\\appdata\\local\\programs\\python\\python311\\lib\\site-packages (from jsonschema>=2.6->nbformat) (0.29.1)\n",
      "Requirement already satisfied: rpds-py>=0.7.1 in c:\\users\\dilan\\appdata\\local\\programs\\python\\python311\\lib\\site-packages (from jsonschema>=2.6->nbformat) (0.8.10)\n",
      "Requirement already satisfied: platformdirs>=2.5 in c:\\users\\dilan\\appdata\\roaming\\python\\python311\\site-packages (from jupyter-core->nbformat) (3.5.0)\n",
      "Requirement already satisfied: pywin32>=300 in c:\\users\\dilan\\appdata\\roaming\\python\\python311\\site-packages (from jupyter-core->nbformat) (306)\n"
     ]
    },
    {
     "name": "stderr",
     "output_type": "stream",
     "text": [
      "\n",
      "[notice] A new release of pip available: 22.3.1 -> 23.2\n",
      "[notice] To update, run: python.exe -m pip install --upgrade pip\n"
     ]
    }
   ],
   "source": [
    "!pip install --upgrade nbformat\n"
   ]
  },
  {
   "cell_type": "code",
   "execution_count": null,
   "metadata": {},
   "outputs": [],
   "source": []
  }
 ],
 "metadata": {
  "kernelspec": {
   "display_name": "Python 3",
   "language": "python",
   "name": "python3"
  },
  "language_info": {
   "codemirror_mode": {
    "name": "ipython",
    "version": 3
   },
   "file_extension": ".py",
   "mimetype": "text/x-python",
   "name": "python",
   "nbconvert_exporter": "python",
   "pygments_lexer": "ipython3",
   "version": "3.11.1"
  },
  "orig_nbformat": 4
 },
 "nbformat": 4,
 "nbformat_minor": 2
}
