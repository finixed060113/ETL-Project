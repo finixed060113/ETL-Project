{
 "cells": [
  {
   "cell_type": "code",
   "execution_count": 1,
   "metadata": {},
   "outputs": [],
   "source": [
    "import pandas as pd # manejo de datos y dataframes\n",
    "import numpy as np # manejo de arrays y operaciones matematicas \n",
    "\n",
    "\n",
    "# Librerias para realizar web scraping con selenium\n",
    "\n",
    "from selenium import webdriver # webdriver permite manejar un navegador \n",
    "from webdriver_manager.chrome import ChromeDriverManager # permite instalar y mantener actualizado el driver de chrome\n",
    "from selenium.webdriver.common.keys import Keys # permite simular teclas del teclado \n",
    "from selenium.webdriver.chrome.options import Options # permite configurar el driver de chrome como modo incognito o maximizar la ventana\n",
    "from time import sleep # esperas entre ejecuciones de codigo\n",
    "from tqdm import tqdm\n",
    "\n",
    "import warnings # permite ignorar los warnings de python \n",
    "warnings.filterwarnings('ignore')\n"
   ]
  },
  {
   "cell_type": "code",
   "execution_count": 2,
   "metadata": {},
   "outputs": [],
   "source": [
    "opciones= Options()\n",
    "opciones.add_experimental_option('excludeSwitches', ['enable-automation'])\n",
    "#para ocultarme como robot\n",
    "opciones.add_experimental_option('useAutomationExtension', False)\n",
    "opciones.add_argument('--start-maximized') #empezar maximizado\n",
    "opciones.add_argument('user.data-dir=selenium') #guarda las cookies\n",
    "opciones.add_argument('--incognito')#incognito window\n",
    "\n"
   ]
  },
  {
   "cell_type": "code",
   "execution_count": 3,
   "metadata": {},
   "outputs": [],
   "source": [
    "top_cards = {\n",
    "    'nombre':[],\n",
    "    'decks':[],\n",
    "    'porcent':[]\n",
    "}"
   ]
  },
  {
   "cell_type": "code",
   "execution_count": 5,
   "metadata": {},
   "outputs": [],
   "source": [
    "driver = webdriver.Chrome()\n",
    "\n",
    "driver.get(\"https://ygoprodeck.com/top/\") \n",
    "driver.implicitly_wait(5)\n",
    "\n",
    "\n",
    "driver.find_element(\"css selector\",\"#ncmp__tool > div > div > div.ncmp__banner-actions > div.ncmp__banner-btns > button:nth-child(2)\").click()\n",
    "sleep(2)\n",
    "\n",
    "\n",
    "driver.find_element(\"css selector\",\"body > main > div > div > div:nth-child(3) > span:nth-child(1)\").click()\n",
    "'''\n",
    "sleep(2)\n",
    "nombre = driver.find_element('css selector','#cardList > div:nth-child(1) > figure > figcaption > p.font-weight-bold.mb-1').text\n",
    "'''\n",
    "for i in tqdm(range(1,500)):\n",
    "    try:\n",
    "        nombre_selector = driver.find_element('css selector',f\"#cardList > div:nth-child({i}) > figure > figcaption > p.font-weight-bold.mb-1\" )\n",
    "        nombre = nombre_selector.text\n",
    "        top_cards[\"nombre\"].append(nombre)\n",
    "    except:\n",
    "        break\n",
    "\n",
    "'''\n",
    "driver.find_element('xpath','//*[@id=\"dateSubmit\"]').click() \n",
    "\n",
    "sleep(2)\n",
    "driver.find_element('xpath','//*[@id=\"dateSubmit\"]').click() \n",
    "\n",
    "sleep(2)\n",
    "resultado = driver.find_element('css selector','#inner-content > div.region-content-main > div.row > div:nth-child(5) > div:nth-child(1) > div > lib-city-history-observation > div > div.observation-table.ng-star-inserted').text\n",
    "driver.quit()\n",
    "'''\n",
    "top_cards[\"nombre\"]"
   ]
  },
  {
   "cell_type": "code",
   "execution_count": null,
   "metadata": {},
   "outputs": [],
   "source": [
    "\n",
    "nombres = sopa.find_all(\"p\", {\"class\":\"font-weight-bold mb-1\"})\n",
    "type(nombres)\n"
   ]
  },
  {
   "cell_type": "code",
   "execution_count": null,
   "metadata": {},
   "outputs": [],
   "source": [
    "len(nombres)"
   ]
  },
  {
   "cell_type": "code",
   "execution_count": null,
   "metadata": {},
   "outputs": [],
   "source": [
    "\n",
    "top_cards[\"nombre\"]"
   ]
  },
  {
   "cell_type": "code",
   "execution_count": null,
   "metadata": {},
   "outputs": [],
   "source": []
  },
  {
   "cell_type": "code",
   "execution_count": null,
   "metadata": {},
   "outputs": [],
   "source": [
    "res1.status_code"
   ]
  },
  {
   "cell_type": "code",
   "execution_count": null,
   "metadata": {},
   "outputs": [],
   "source": [
    "sopa"
   ]
  },
  {
   "cell_type": "code",
   "execution_count": null,
   "metadata": {},
   "outputs": [],
   "source": [
    "//*[@id=\"cardList\"]/div[1]/figure/figcaption/p[1]\n",
    "//*[@id=\"cardList\"]/div[2]/figure/figcaption/p[1]"
   ]
  }
 ],
 "metadata": {
  "kernelspec": {
   "display_name": "Python 3",
   "language": "python",
   "name": "python3"
  },
  "language_info": {
   "codemirror_mode": {
    "name": "ipython",
    "version": 3
   },
   "file_extension": ".py",
   "mimetype": "text/x-python",
   "name": "python",
   "nbconvert_exporter": "python",
   "pygments_lexer": "ipython3",
   "version": "3.11.1"
  },
  "orig_nbformat": 4
 },
 "nbformat": 4,
 "nbformat_minor": 2
}
