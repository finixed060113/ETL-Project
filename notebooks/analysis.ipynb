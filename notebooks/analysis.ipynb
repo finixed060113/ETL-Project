{
 "cells": [
  {
   "cell_type": "markdown",
   "metadata": {},
   "source": [
    "## Analysis\n"
   ]
  },
  {
   "cell_type": "code",
   "execution_count": 2,
   "metadata": {},
   "outputs": [],
   "source": [
    "import pandas as pd # is a powerful library for data manipulation and analysis\n",
    "import numpy as np # is a fundamental package for scientific computing with Python.\n",
    "\n",
    "\n",
    "import seaborn as sns # is a Python data visualization library based on matplotlib. \n",
    "import matplotlib.pyplot as plt #  is a collection of functions for creating visualizations\n",
    "import plotly.graph_objects as go #  provides interactive graphing capabilities and enables the \n",
    "                                  # creation of interactive and dynamic visualizations\n"
   ]
  },
  {
   "cell_type": "code",
   "execution_count": 3,
   "metadata": {},
   "outputs": [],
   "source": [
    "# Read the \"all_cards.csv\" file\n",
    "allcards = pd.read_csv(\"../data/all_cards.csv\")\n",
    "# Read the \"top_cards.csv\" file\n",
    "topcards = pd.read_csv(\"../data/top_cards.csv\", index_col= 0)"
   ]
  },
  {
   "cell_type": "code",
   "execution_count": 4,
   "metadata": {},
   "outputs": [
    {
     "data": {
      "text/html": [
       "<div>\n",
       "<style scoped>\n",
       "    .dataframe tbody tr th:only-of-type {\n",
       "        vertical-align: middle;\n",
       "    }\n",
       "\n",
       "    .dataframe tbody tr th {\n",
       "        vertical-align: top;\n",
       "    }\n",
       "\n",
       "    .dataframe thead th {\n",
       "        text-align: right;\n",
       "    }\n",
       "</style>\n",
       "<table border=\"1\" class=\"dataframe\">\n",
       "  <thead>\n",
       "    <tr style=\"text-align: right;\">\n",
       "      <th></th>\n",
       "      <th>id_</th>\n",
       "      <th>name</th>\n",
       "      <th>type</th>\n",
       "      <th>frametype</th>\n",
       "      <th>desc</th>\n",
       "      <th>race</th>\n",
       "      <th>archetype</th>\n",
       "      <th>atk</th>\n",
       "      <th>def</th>\n",
       "      <th>level</th>\n",
       "      <th>attribute</th>\n",
       "      <th>url_</th>\n",
       "      <th>cardmarket_price</th>\n",
       "      <th>tcgplayer_price</th>\n",
       "      <th>ebay_price</th>\n",
       "      <th>amazon_price</th>\n",
       "      <th>coolstuffinc_price</th>\n",
       "      <th>mean_price</th>\n",
       "    </tr>\n",
       "  </thead>\n",
       "  <tbody>\n",
       "    <tr>\n",
       "      <th>0</th>\n",
       "      <td>34541863</td>\n",
       "      <td>\"A\" Cell Breeding Device</td>\n",
       "      <td>Spell Card</td>\n",
       "      <td>spell</td>\n",
       "      <td>During each of your Standby Phases, put 1 A-Co...</td>\n",
       "      <td>Continuous</td>\n",
       "      <td>Alien</td>\n",
       "      <td>NaN</td>\n",
       "      <td>NaN</td>\n",
       "      <td>NaN</td>\n",
       "      <td>NaN</td>\n",
       "      <td>https://yugioh.fandom.com/wiki/\"A\"_Cell_Breedi...</td>\n",
       "      <td>4.55</td>\n",
       "      <td>0.18</td>\n",
       "      <td>0.99</td>\n",
       "      <td>24.45</td>\n",
       "      <td>0.25</td>\n",
       "      <td>6.084</td>\n",
       "    </tr>\n",
       "    <tr>\n",
       "      <th>1</th>\n",
       "      <td>64163367</td>\n",
       "      <td>\"A\" Cell Incubator</td>\n",
       "      <td>Spell Card</td>\n",
       "      <td>spell</td>\n",
       "      <td>Each time an A-Counter(s) is removed from play...</td>\n",
       "      <td>Continuous</td>\n",
       "      <td>Alien</td>\n",
       "      <td>NaN</td>\n",
       "      <td>NaN</td>\n",
       "      <td>NaN</td>\n",
       "      <td>NaN</td>\n",
       "      <td>https://yugioh.fandom.com/wiki/\"A\"_Cell_Incubator</td>\n",
       "      <td>0.16</td>\n",
       "      <td>0.21</td>\n",
       "      <td>1.25</td>\n",
       "      <td>0.50</td>\n",
       "      <td>0.25</td>\n",
       "      <td>0.474</td>\n",
       "    </tr>\n",
       "  </tbody>\n",
       "</table>\n",
       "</div>"
      ],
      "text/plain": [
       "        id_                      name        type frametype   \n",
       "0  34541863  \"A\" Cell Breeding Device  Spell Card     spell  \\\n",
       "1  64163367        \"A\" Cell Incubator  Spell Card     spell   \n",
       "\n",
       "                                                desc        race archetype   \n",
       "0  During each of your Standby Phases, put 1 A-Co...  Continuous     Alien  \\\n",
       "1  Each time an A-Counter(s) is removed from play...  Continuous     Alien   \n",
       "\n",
       "   atk  def  level attribute   \n",
       "0  NaN  NaN    NaN       NaN  \\\n",
       "1  NaN  NaN    NaN       NaN   \n",
       "\n",
       "                                                url_  cardmarket_price   \n",
       "0  https://yugioh.fandom.com/wiki/\"A\"_Cell_Breedi...              4.55  \\\n",
       "1  https://yugioh.fandom.com/wiki/\"A\"_Cell_Incubator              0.16   \n",
       "\n",
       "   tcgplayer_price  ebay_price  amazon_price  coolstuffinc_price  mean_price  \n",
       "0             0.18        0.99         24.45                0.25       6.084  \n",
       "1             0.21        1.25          0.50                0.25       0.474  "
      ]
     },
     "execution_count": 4,
     "metadata": {},
     "output_type": "execute_result"
    }
   ],
   "source": [
    "allcards.head(2)"
   ]
  },
  {
   "cell_type": "code",
   "execution_count": 5,
   "metadata": {},
   "outputs": [
    {
     "data": {
      "text/html": [
       "<div>\n",
       "<style scoped>\n",
       "    .dataframe tbody tr th:only-of-type {\n",
       "        vertical-align: middle;\n",
       "    }\n",
       "\n",
       "    .dataframe tbody tr th {\n",
       "        vertical-align: top;\n",
       "    }\n",
       "\n",
       "    .dataframe thead th {\n",
       "        text-align: right;\n",
       "    }\n",
       "</style>\n",
       "<table border=\"1\" class=\"dataframe\">\n",
       "  <thead>\n",
       "    <tr style=\"text-align: right;\">\n",
       "      <th></th>\n",
       "      <th>name</th>\n",
       "      <th>decks</th>\n",
       "      <th>porcentage</th>\n",
       "    </tr>\n",
       "    <tr>\n",
       "      <th>id_</th>\n",
       "      <th></th>\n",
       "      <th></th>\n",
       "      <th></th>\n",
       "    </tr>\n",
       "  </thead>\n",
       "  <tbody>\n",
       "    <tr>\n",
       "      <th>14558127</th>\n",
       "      <td>Ash Blossom &amp; Joyous Spring</td>\n",
       "      <td>2206</td>\n",
       "      <td>66.1668</td>\n",
       "    </tr>\n",
       "    <tr>\n",
       "      <th>90448279</th>\n",
       "      <td>Divine Arsenal AA-ZEUS - Sky Thunder</td>\n",
       "      <td>1818</td>\n",
       "      <td>54.5291</td>\n",
       "    </tr>\n",
       "  </tbody>\n",
       "</table>\n",
       "</div>"
      ],
      "text/plain": [
       "                                          name  decks  porcentage\n",
       "id_                                                              \n",
       "14558127           Ash Blossom & Joyous Spring   2206     66.1668\n",
       "90448279  Divine Arsenal AA-ZEUS - Sky Thunder   1818     54.5291"
      ]
     },
     "execution_count": 5,
     "metadata": {},
     "output_type": "execute_result"
    }
   ],
   "source": [
    "topcards.head(2)"
   ]
  },
  {
   "cell_type": "code",
   "execution_count": 6,
   "metadata": {},
   "outputs": [],
   "source": [
    "# Perform the merge using the common key column.\n",
    "df_topcards = pd.merge(allcards, topcards, on='name', how='inner')\n",
    "df_topcards = df_topcards.sort_values(by='porcentage', ascending=False)\n",
    "df_topcards = df_topcards.reset_index().drop('index', axis=1)\n"
   ]
  },
  {
   "cell_type": "code",
   "execution_count": 7,
   "metadata": {},
   "outputs": [],
   "source": [
    "df_topcards['max_price'] = df_topcards[['cardmarket_price', 'tcgplayer_price', 'ebay_price', 'amazon_price', 'coolstuffinc_price']].max(axis=1)\n",
    "# calculates the maximum price, the value is then assigned to a new column named 'max_price' "
   ]
  },
  {
   "cell_type": "markdown",
   "metadata": {},
   "source": [
    "The graph shows the maximum price for each type of card among the top 200 most played cards. There are 9 different types of cards represented on the x-axis. The height of each bar represents the maximum price observed for that particular type of card. \n",
    "\n",
    "Based on the graph, we can see that the \"Fusion Monster\" type has the highest maximum price, indicated by the tallest bar. The other types of cards have relatively similar maximum prices, except for the \"Normal Monster\" type, which has the lowest maximum price represented by the shortest bar."
   ]
  },
  {
   "cell_type": "code",
   "execution_count": 8,
   "metadata": {},
   "outputs": [
    {
     "data": {
      "image/png": "[encoded data removed]",
      "text/plain": [
       "<Figure size 1200x600 with 1 Axes>"
      ]
     },
     "metadata": {},
     "output_type": "display_data"
    }
   ],
   "source": [
    "# Create the bar plot\n",
    "plt.figure(figsize=(12, 6))\n",
    "sns.barplot(x=\"type\", y=\"max_price\", data=df_topcards, palette=\"pastel\")\n",
    "\n",
    "# Configure the title and axes\n",
    "plt.title(\"Maximum Price by Card Type\")\n",
    "plt.xlabel(\"Card Type\")\n",
    "plt.ylabel(\"Maximum Price\")\n",
    "\n",
    "# Rotate the x-axis labels for better readability\n",
    "plt.xticks(rotation=45)\n",
    "\n",
    "# Show the plot\n",
    "plt.show()\n"
   ]
  },
  {
   "cell_type": "code",
   "execution_count": 9,
   "metadata": {},
   "outputs": [
    {
     "data": {
      "image/png": "[encoded data removed]",
      "text/plain": [
       "<Figure size 1200x600 with 1 Axes>"
      ]
     },
     "metadata": {},
     "output_type": "display_data"
    }
   ],
   "source": [
    "\n",
    "# Create the bar plot\n",
    "plt.figure(figsize=(12, 6))\n",
    "sns.countplot(x=df_topcards[\"type\"], palette=\"pastel\")\n",
    "\n",
    "# Configure the title and axes\n",
    "plt.title(\"Distribution of Cards by Type\")\n",
    "plt.xlabel(\"Card Type\")\n",
    "plt.ylabel(\"Number of Cards\")\n",
    "\n",
    "# Rotate the x-axis labels for better readability\n",
    "plt.xticks(rotation=45)\n",
    "\n",
    "# Show the plot\n",
    "plt.show()\n"
   ]
  },
  {
   "cell_type": "markdown",
   "metadata": {},
   "source": [
    "The chart represents the frequency or count of each card type in the dataset. It provides an overview of the distribution and relative prevalence of different types of cards in the dataset.\n",
    "\n",
    "The \"Effect Monster\" type has the highest count, indicating that it is the most common type of card in the dataset. Effect Monsters typically have special abilities or effects that can influence gameplay.\n",
    "\n",
    "The \"Spell Card\" type has the second-highest count, suggesting that it is also quite common. Spell Cards are used to cast spells or activate special effects during a duel.\n",
    "\n",
    "\"Link Monster\" type follows closely behind in count, indicating its significant presence in the dataset. Link Monsters are a relatively newer card type that introduced a different way of summoning and interacting with other cards on the field.\n",
    "\n",
    "The remaining types, such as \"Trap Card\", \"Xyz Monster\", \"Fusion Monster\", and others, have relatively similar counts, indicating a relatively balanced distribution among these types.\n",
    "The \"Normal Monster\" type has the lowest count, suggesting that it is the least common type among the cards in the dataset. Normal Monsters are basic, without any special effects or abilities.\n",
    "\n",
    "Overall, the chart provides insights into the relative popularity or prevalence of different types of cards in the dataset, which can be useful for understanding the composition and characteristics of the dataset."
   ]
  },
  {
   "cell_type": "code",
   "execution_count": 10,
   "metadata": {},
   "outputs": [
    {
     "data": {
      "image/png": "[encoded data removed]",
      "text/plain": [
       "<Figure size 1200x600 with 1 Axes>"
      ]
     },
     "metadata": {},
     "output_type": "display_data"
    }
   ],
   "source": [
    "# Group by type and count the frequency of appearance\n",
    "df_freq = df_topcards.groupby('type').size().reset_index(name='porcentage')\n",
    "\n",
    "# Sort by type in descending order\n",
    "df_freq = df_freq.sort_values(by='porcentage', ascending=False)\n",
    "\n",
    "# Create the bar chart\n",
    "plt.figure(figsize=(12, 6))\n",
    "sns.barplot(data=df_freq, x='porcentage', y='type', color='skyblue')\n",
    "\n",
    "# Configure the title and axes\n",
    "plt.title('Porcentage of Card Appearance by Type')\n",
    "plt.xlabel('Porcentage')\n",
    "plt.ylabel('Type')\n",
    "\n",
    "# Show the chart\n",
    "plt.show()\n"
   ]
  },
  {
   "cell_type": "markdown",
   "metadata": {},
   "source": [
    "The chart represents the distribution of cards by type. Each bar in the chart corresponds to a different card type, and the height of the bar indicates the frequency or count of cards belonging to that type.\n",
    "\n",
    "In this specific chart:\n",
    "\n",
    "The 'Effect Monster' type has the tallest bar, indicating that it is the most common type among the 200 most played cards.\n",
    "\n",
    "The 'Spell Card' type has the second tallest bar, suggesting that it is also quite prevalent among the top cards.\n",
    "\n",
    "The 'Link Monster' type has a relatively high frequency but a shorter bar compared to the previous two types.\n",
    "\n",
    "The remaining types, such as 'XYZ Monster', 'Fusion Monster', and others, have similar frequencies and shorter bars, indicating that they are less common among the top cards.\n",
    "\n",
    "Overall, this chart provides an overview of the distribution of card types among the 200 most played cards. It highlights the dominance of 'Effect Monster' and 'Spell Card' types while showing the relative frequencies of other types."
   ]
  },
  {
   "cell_type": "code",
   "execution_count": 11,
   "metadata": {},
   "outputs": [],
   "source": [
    "#  We create a dataframe with the 15 most used cards.\n",
    "df15 = df_topcards.head(15)"
   ]
  },
  {
   "cell_type": "code",
   "execution_count": 12,
   "metadata": {},
   "outputs": [
    {
     "data": {
      "application/vnd.plotly.v1+json": {
       "config": {
        "plotlyServerURL": "https://plot.ly"
       },
       "data": [
        {
         "name": "Cardmarket",
         "type": "bar",
         "x": [
          "Ash Blossom & Joyous Spring",
          "Divine Arsenal AA-ZEUS - Sky Thunder",
          "Infinite Impermanence",
          "Called by the Grave",
          "Pot of Prosperity",
          "Terraforming",
          "Triple Tactics Talent",
          "Nibiru, the Primal Being",
          "Baronne de Fleur",
          "Accesscode Talker",
          "Dharc the Dark Charmer, Gloomy",
          "Garura, Wings of Resonant Life",
          "Effect Veiler",
          "Knightmare Unicorn",
          "Droll & Lock Bird"
         ],
         "y": [
          3.23,
          14.6,
          6.91,
          0.88,
          40.55,
          0.15,
          20.81,
          6.21,
          50.87,
          33.92,
          5.12,
          21.27,
          1.01,
          2.47,
          3.24
         ]
        },
        {
         "name": "TCGPlayer",
         "type": "bar",
         "x": [
          "Ash Blossom & Joyous Spring",
          "Divine Arsenal AA-ZEUS - Sky Thunder",
          "Infinite Impermanence",
          "Called by the Grave",
          "Pot of Prosperity",
          "Terraforming",
          "Triple Tactics Talent",
          "Nibiru, the Primal Being",
          "Baronne de Fleur",
          "Accesscode Talker",
          "Dharc the Dark Charmer, Gloomy",
          "Garura, Wings of Resonant Life",
          "Effect Veiler",
          "Knightmare Unicorn",
          "Droll & Lock Bird"
         ],
         "y": [
          3.74,
          12.35,
          10.2,
          1.01,
          36.8,
          0.3,
          15.4,
          4.15,
          45.84,
          30.42,
          2.32,
          14.5,
          1.14,
          0.64,
          2.75
         ]
        },
        {
         "name": "eBay",
         "type": "bar",
         "x": [
          "Ash Blossom & Joyous Spring",
          "Divine Arsenal AA-ZEUS - Sky Thunder",
          "Infinite Impermanence",
          "Called by the Grave",
          "Pot of Prosperity",
          "Terraforming",
          "Triple Tactics Talent",
          "Nibiru, the Primal Being",
          "Baronne de Fleur",
          "Accesscode Talker",
          "Dharc the Dark Charmer, Gloomy",
          "Garura, Wings of Resonant Life",
          "Effect Veiler",
          "Knightmare Unicorn",
          "Droll & Lock Bird"
         ],
         "y": [
          11.84,
          29.99,
          13.99,
          4.95,
          39.99,
          6.95,
          4.5,
          5.55,
          52.98,
          32.95,
          4.88,
          9.99,
          5.99,
          1.33,
          3.88
         ]
        },
        {
         "name": "Amazon",
         "type": "bar",
         "x": [
          "Ash Blossom & Joyous Spring",
          "Divine Arsenal AA-ZEUS - Sky Thunder",
          "Infinite Impermanence",
          "Called by the Grave",
          "Pot of Prosperity",
          "Terraforming",
          "Triple Tactics Talent",
          "Nibiru, the Primal Being",
          "Baronne de Fleur",
          "Accesscode Talker",
          "Dharc the Dark Charmer, Gloomy",
          "Garura, Wings of Resonant Life",
          "Effect Veiler",
          "Knightmare Unicorn",
          "Droll & Lock Bird"
         ],
         "y": [
          28.99,
          15.41,
          14.46,
          0.57,
          1.74,
          0.96,
          59.88,
          14.25,
          113.7,
          1.28,
          2.5,
          8.99,
          2.52,
          4.55,
          18.48
         ]
        },
        {
         "name": "CoolStuffInc",
         "type": "bar",
         "x": [
          "Ash Blossom & Joyous Spring",
          "Divine Arsenal AA-ZEUS - Sky Thunder",
          "Infinite Impermanence",
          "Called by the Grave",
          "Pot of Prosperity",
          "Terraforming",
          "Triple Tactics Talent",
          "Nibiru, the Primal Being",
          "Baronne de Fleur",
          "Accesscode Talker",
          "Dharc the Dark Charmer, Gloomy",
          "Garura, Wings of Resonant Life",
          "Effect Veiler",
          "Knightmare Unicorn",
          "Droll & Lock Bird"
         ],
         "y": [
          4.99,
          13.99,
          7.99,
          1.99,
          39.99,
          0.25,
          13.99,
          2.99,
          54.99,
          25.99,
          4.99,
          15.99,
          0.99,
          0.99,
          2.99
         ]
        }
       ],
       "layout": {
        "barmode": "group",
        "template": {
         "data": {
          "bar": [
           {
            "error_x": {
             "color": "#2a3f5f"
            },
            "error_y": {
             "color": "#2a3f5f"
            },
            "marker": {
             "line": {
              "color": "#E5ECF6",
              "width": 0.5
             },
             "pattern": {
              "fillmode": "overlay",
              "size": 10,
              "solidity": 0.2
             }
            },
            "type": "bar"
           }
          ],
          "barpolar": [
           {
            "marker": {
             "line": {
              "color": "#E5ECF6",
              "width": 0.5
             },
             "pattern": {
              "fillmode": "overlay",
              "size": 10,
              "solidity": 0.2
             }
            },
            "type": "barpolar"
           }
          ],
          "carpet": [
           {
            "aaxis": {
             "endlinecolor": "#2a3f5f",
             "gridcolor": "white",
             "linecolor": "white",
             "minorgridcolor": "white",
             "startlinecolor": "#2a3f5f"
            },
            "baxis": {
             "endlinecolor": "#2a3f5f",
             "gridcolor": "white",
             "linecolor": "white",
             "minorgridcolor": "white",
             "startlinecolor": "#2a3f5f"
            },
            "type": "carpet"
           }
          ],
          "choropleth": [
           {
            "colorbar": {
             "outlinewidth": 0,
             "ticks": ""
            },
            "type": "choropleth"
           }
          ],
          "contour": [
           {
            "colorbar": {
             "outlinewidth": 0,
             "ticks": ""
            },
            "colorscale": [
             [
              0,
              "#0d0887"
             ],
             [
              0.1111111111111111,
              "#46039f"
             ],
             [
              0.2222222222222222,
              "#7201a8"
             ],
             [
              0.3333333333333333,
              "#9c179e"
             ],
             [
              0.4444444444444444,
              "#bd3786"
             ],
             [
              0.5555555555555556,
              "#d8576b"
             ],
             [
              0.6666666666666666,
              "#ed7953"
             ],
             [
              0.7777777777777778,
              "#fb9f3a"
             ],
             [
              0.8888888888888888,
              "#fdca26"
             ],
             [
              1,
              "#f0f921"
             ]
            ],
            "type": "contour"
           }
          ],
          "contourcarpet": [
           {
            "colorbar": {
             "outlinewidth": 0,
             "ticks": ""
            },
            "type": "contourcarpet"
           }
          ],
          "heatmap": [
           {
            "colorbar": {
             "outlinewidth": 0,
             "ticks": ""
            },
            "colorscale": [
             [
              0,
              "#0d0887"
             ],
             [
              0.1111111111111111,
              "#46039f"
             ],
             [
              0.2222222222222222,
              "#7201a8"
             ],
             [
              0.3333333333333333,
              "#9c179e"
             ],
             [
              0.4444444444444444,
              "#bd3786"
             ],
             [
              0.5555555555555556,
              "#d8576b"
             ],
             [
              0.6666666666666666,
              "#ed7953"
             ],
             [
              0.7777777777777778,
              "#fb9f3a"
             ],
             [
              0.8888888888888888,
              "#fdca26"
             ],
             [
              1,
              "#f0f921"
             ]
            ],
            "type": "heatmap"
           }
          ],
          "heatmapgl": [
           {
            "colorbar": {
             "outlinewidth": 0,
             "ticks": ""
            },
            "colorscale": [
             [
              0,
              "#0d0887"
             ],
             [
              0.1111111111111111,
              "#46039f"
             ],
             [
              0.2222222222222222,
              "#7201a8"
             ],
             [
              0.3333333333333333,
              "#9c179e"
             ],
             [
              0.4444444444444444,
              "#bd3786"
             ],
             [
              0.5555555555555556,
              "#d8576b"
             ],
             [
              0.6666666666666666,
              "#ed7953"
             ],
             [
              0.7777777777777778,
              "#fb9f3a"
             ],
             [
              0.8888888888888888,
              "#fdca26"
             ],
             [
              1,
              "#f0f921"
             ]
            ],
            "type": "heatmapgl"
           }
          ],
          "histogram": [
           {
            "marker": {
             "pattern": {
              "fillmode": "overlay",
              "size": 10,
              "solidity": 0.2
             }
            },
            "type": "histogram"
           }
          ],
          "histogram2d": [
           {
            "colorbar": {
             "outlinewidth": 0,
             "ticks": ""
            },
            "colorscale": [
             [
              0,
              "#0d0887"
             ],
             [
              0.1111111111111111,
              "#46039f"
             ],
             [
              0.2222222222222222,
              "#7201a8"
             ],
             [
              0.3333333333333333,
              "#9c179e"
             ],
             [
              0.4444444444444444,
              "#bd3786"
             ],
             [
              0.5555555555555556,
              "#d8576b"
             ],
             [
              0.6666666666666666,
              "#ed7953"
             ],
             [
              0.7777777777777778,
              "#fb9f3a"
             ],
             [
              0.8888888888888888,
              "#fdca26"
             ],
             [
              1,
              "#f0f921"
             ]
            ],
            "type": "histogram2d"
           }
          ],
          "histogram2dcontour": [
           {
            "colorbar": {
             "outlinewidth": 0,
             "ticks": ""
            },
            "colorscale": [
             [
              0,
              "#0d0887"
             ],
             [
              0.1111111111111111,
              "#46039f"
             ],
             [
              0.2222222222222222,
              "#7201a8"
             ],
             [
              0.3333333333333333,
              "#9c179e"
             ],
             [
              0.4444444444444444,
              "#bd3786"
             ],
             [
              0.5555555555555556,
              "#d8576b"
             ],
             [
              0.6666666666666666,
              "#ed7953"
             ],
             [
              0.7777777777777778,
              "#fb9f3a"
             ],
             [
              0.8888888888888888,
              "#fdca26"
             ],
             [
              1,
              "#f0f921"
             ]
            ],
            "type": "histogram2dcontour"
           }
          ],
          "mesh3d": [
           {
            "colorbar": {
             "outlinewidth": 0,
             "ticks": ""
            },
            "type": "mesh3d"
           }
          ],
          "parcoords": [
           {
            "line": {
             "colorbar": {
              "outlinewidth": 0,
              "ticks": ""
             }
            },
            "type": "parcoords"
           }
          ],
          "pie": [
           {
            "automargin": true,
            "type": "pie"
           }
          ],
          "scatter": [
           {
            "fillpattern": {
             "fillmode": "overlay",
             "size": 10,
             "solidity": 0.2
            },
            "type": "scatter"
           }
          ],
          "scatter3d": [
           {
            "line": {
             "colorbar": {
              "outlinewidth": 0,
              "ticks": ""
             }
            },
            "marker": {
             "colorbar": {
              "outlinewidth": 0,
              "ticks": ""
             }
            },
            "type": "scatter3d"
           }
          ],
          "scattercarpet": [
           {
            "marker": {
             "colorbar": {
              "outlinewidth": 0,
              "ticks": ""
             }
            },
            "type": "scattercarpet"
           }
          ],
          "scattergeo": [
           {
            "marker": {
             "colorbar": {
              "outlinewidth": 0,
              "ticks": ""
             }
            },
            "type": "scattergeo"
           }
          ],
          "scattergl": [
           {
            "marker": {
             "colorbar": {
              "outlinewidth": 0,
              "ticks": ""
             }
            },
            "type": "scattergl"
           }
          ],
          "scattermapbox": [
           {
            "marker": {
             "colorbar": {
              "outlinewidth": 0,
              "ticks": ""
             }
            },
            "type": "scattermapbox"
           }
          ],
          "scatterpolar": [
           {
            "marker": {
             "colorbar": {
              "outlinewidth": 0,
              "ticks": ""
             }
            },
            "type": "scatterpolar"
           }
          ],
          "scatterpolargl": [
           {
            "marker": {
             "colorbar": {
              "outlinewidth": 0,
              "ticks": ""
             }
            },
            "type": "scatterpolargl"
           }
          ],
          "scatterternary": [
           {
            "marker": {
             "colorbar": {
              "outlinewidth": 0,
              "ticks": ""
             }
            },
            "type": "scatterternary"
           }
          ],
          "surface": [
           {
            "colorbar": {
             "outlinewidth": 0,
             "ticks": ""
            },
            "colorscale": [
             [
              0,
              "#0d0887"
             ],
             [
              0.1111111111111111,
              "#46039f"
             ],
             [
              0.2222222222222222,
              "#7201a8"
             ],
             [
              0.3333333333333333,
              "#9c179e"
             ],
             [
              0.4444444444444444,
              "#bd3786"
             ],
             [
              0.5555555555555556,
              "#d8576b"
             ],
             [
              0.6666666666666666,
              "#ed7953"
             ],
             [
              0.7777777777777778,
              "#fb9f3a"
             ],
             [
              0.8888888888888888,
              "#fdca26"
             ],
             [
              1,
              "#f0f921"
             ]
            ],
            "type": "surface"
           }
          ],
          "table": [
           {
            "cells": {
             "fill": {
              "color": "#EBF0F8"
             },
             "line": {
              "color": "white"
             }
            },
            "header": {
             "fill": {
              "color": "#C8D4E3"
             },
             "line": {
              "color": "white"
             }
            },
            "type": "table"
           }
          ]
         },
         "layout": {
          "annotationdefaults": {
           "arrowcolor": "#2a3f5f",
           "arrowhead": 0,
           "arrowwidth": 1
          },
          "autotypenumbers": "strict",
          "coloraxis": {
           "colorbar": {
            "outlinewidth": 0,
            "ticks": ""
           }
          },
          "colorscale": {
           "diverging": [
            [
             0,
             "#8e0152"
            ],
            [
             0.1,
             "#c51b7d"
            ],
            [
             0.2,
             "#de77ae"
            ],
            [
             0.3,
             "#f1b6da"
            ],
            [
             0.4,
             "#fde0ef"
            ],
            [
             0.5,
             "#f7f7f7"
            ],
            [
             0.6,
             "#e6f5d0"
            ],
            [
             0.7,
             "#b8e186"
            ],
            [
             0.8,
             "#7fbc41"
            ],
            [
             0.9,
             "#4d9221"
            ],
            [
             1,
             "#276419"
            ]
           ],
           "sequential": [
            [
             0,
             "#0d0887"
            ],
            [
             0.1111111111111111,
             "#46039f"
            ],
            [
             0.2222222222222222,
             "#7201a8"
            ],
            [
             0.3333333333333333,
             "#9c179e"
            ],
            [
             0.4444444444444444,
             "#bd3786"
            ],
            [
             0.5555555555555556,
             "#d8576b"
            ],
            [
             0.6666666666666666,
             "#ed7953"
            ],
            [
             0.7777777777777778,
             "#fb9f3a"
            ],
            [
             0.8888888888888888,
             "#fdca26"
            ],
            [
             1,
             "#f0f921"
            ]
           ],
           "sequentialminus": [
            [
             0,
             "#0d0887"
            ],
            [
             0.1111111111111111,
             "#46039f"
            ],
            [
             0.2222222222222222,
             "#7201a8"
            ],
            [
             0.3333333333333333,
             "#9c179e"
            ],
            [
             0.4444444444444444,
             "#bd3786"
            ],
            [
             0.5555555555555556,
             "#d8576b"
            ],
            [
             0.6666666666666666,
             "#ed7953"
            ],
            [
             0.7777777777777778,
             "#fb9f3a"
            ],
            [
             0.8888888888888888,
             "#fdca26"
            ],
            [
             1,
             "#f0f921"
            ]
           ]
          },
          "colorway": [
           "#636efa",
           "#EF553B",
           "#00cc96",
           "#ab63fa",
           "#FFA15A",
           "#19d3f3",
           "#FF6692",
           "#B6E880",
           "#FF97FF",
           "#FECB52"
          ],
          "font": {
           "color": "#2a3f5f"
          },
          "geo": {
           "bgcolor": "white",
           "lakecolor": "white",
           "landcolor": "#E5ECF6",
           "showlakes": true,
           "showland": true,
           "subunitcolor": "white"
          },
          "hoverlabel": {
           "align": "left"
          },
          "hovermode": "closest",
          "mapbox": {
           "style": "light"
          },
          "paper_bgcolor": "white",
          "plot_bgcolor": "#E5ECF6",
          "polar": {
           "angularaxis": {
            "gridcolor": "white",
            "linecolor": "white",
            "ticks": ""
           },
           "bgcolor": "#E5ECF6",
           "radialaxis": {
            "gridcolor": "white",
            "linecolor": "white",
            "ticks": ""
           }
          },
          "scene": {
           "xaxis": {
            "backgroundcolor": "#E5ECF6",
            "gridcolor": "white",
            "gridwidth": 2,
            "linecolor": "white",
            "showbackground": true,
            "ticks": "",
            "zerolinecolor": "white"
           },
           "yaxis": {
            "backgroundcolor": "#E5ECF6",
            "gridcolor": "white",
            "gridwidth": 2,
            "linecolor": "white",
            "showbackground": true,
            "ticks": "",
            "zerolinecolor": "white"
           },
           "zaxis": {
            "backgroundcolor": "#E5ECF6",
            "gridcolor": "white",
            "gridwidth": 2,
            "linecolor": "white",
            "showbackground": true,
            "ticks": "",
            "zerolinecolor": "white"
           }
          },
          "shapedefaults": {
           "line": {
            "color": "#2a3f5f"
           }
          },
          "ternary": {
           "aaxis": {
            "gridcolor": "white",
            "linecolor": "white",
            "ticks": ""
           },
           "baxis": {
            "gridcolor": "white",
            "linecolor": "white",
            "ticks": ""
           },
           "bgcolor": "#E5ECF6",
           "caxis": {
            "gridcolor": "white",
            "linecolor": "white",
            "ticks": ""
           }
          },
          "title": {
           "x": 0.05
          },
          "xaxis": {
           "automargin": true,
           "gridcolor": "white",
           "linecolor": "white",
           "ticks": "",
           "title": {
            "standoff": 15
           },
           "zerolinecolor": "white",
           "zerolinewidth": 2
          },
          "yaxis": {
           "automargin": true,
           "gridcolor": "white",
           "linecolor": "white",
           "ticks": "",
           "title": {
            "standoff": 15
           },
           "zerolinecolor": "white",
           "zerolinewidth": 2
          }
         }
        },
        "title": {
         "text": "Price of the Top 15 Most Used Cards"
        },
        "xaxis": {
         "tickangle": -45,
         "title": {
          "text": "Cards"
         }
        },
        "yaxis": {
         "title": {
          "text": "Price"
         }
        }
       }
      }
     },
     "metadata": {},
     "output_type": "display_data"
    }
   ],
   "source": [
    "\n",
    "# Create the figure and bars\n",
    "fig = go.Figure()\n",
    "\n",
    "# Add the bars for each store\n",
    "fig.add_trace(go.Bar(\n",
    "    x=df15['name'],\n",
    "    y=df15['cardmarket_price'],\n",
    "    name='Cardmarket'\n",
    "))\n",
    "fig.add_trace(go.Bar(\n",
    "    x=df15['name'],\n",
    "    y=df15['tcgplayer_price'],\n",
    "    name='TCGPlayer'\n",
    "))\n",
    "fig.add_trace(go.Bar(\n",
    "    x=df15['name'],\n",
    "    y=df15['ebay_price'],\n",
    "    name='eBay'\n",
    "))\n",
    "fig.add_trace(go.Bar(\n",
    "    x=df15['name'],\n",
    "    y=df15['amazon_price'],\n",
    "    name='Amazon'\n",
    "))\n",
    "fig.add_trace(go.Bar(\n",
    "    x=df15['name'],\n",
    "    y=df15['coolstuffinc_price'],\n",
    "    name='CoolStuffInc'\n",
    "))\n",
    "\n",
    "# Configure the layout of the graph\n",
    "fig.update_layout(\n",
    "    title='Price of the Top 15 Most Used Cards',\n",
    "    xaxis_title='Cards',\n",
    "    yaxis_title='Price',\n",
    "    barmode='group',\n",
    "    xaxis_tickangle=-45\n",
    ")\n",
    "\n",
    "# Show the interactive graph\n",
    "fig.show()\n",
    "\n"
   ]
  },
  {
   "cell_type": "markdown",
   "metadata": {},
   "source": [
    "With the code I provided, let me explain in more detail the graph that I obtained. The graph displays the prices of the top 15 most important cards in a visually appealing and interactive manner.\n",
    "\n",
    "Each bar in the graph represents a specific card, and the height of the bar indicates the price of that card. The graph includes five different stores: Cardmarket, TCGPlayer, eBay, Amazon, and CoolStuffInc.\n",
    "\n",
    "By comparing the heights of the bars for each card across the different stores, we can observe the variations in prices. This provides valuable insights into the pricing dynamics of these cards in the market.\n",
    "\n",
    "The interactive nature of the graph allows us to hover over each bar and view the exact price for a particular card and store. This makes it easy to identify any outliers or unique pricing patterns for specific cards.\n",
    "\n",
    "Analyzing the graph, we can see that there is a significant range in prices among the top 15 cards. Some cards may have consistent prices across all stores, while others may exhibit larger discrepancies. These variations could be influenced by factors such as card popularity, scarcity, condition, and store-specific pricing strategies.\n",
    "\n",
    "Overall, the graph provides a comprehensive view of the prices of the top 15 cards, allowing for detailed analysis and insights into the pricing trends in the market."
   ]
  },
  {
   "cell_type": "markdown",
   "metadata": {},
   "source": [
    "## Conclusions: \n",
    "Based on the explanations provided, the conclusion would be as follows:\n",
    "\n",
    "The analysis of the data and visualizations has provided us with a deeper understanding of Yu-Gi-Oh cards and their characteristics, such as popularity, prices, and relationships between variables. Some key conclusions are:\n",
    "\n",
    "1. The most played cards tend to have higher prices, indicating a correlation between popularity and market value.\n",
    "\n",
    "2. Card archetypes can influence their prices, as some archetypes are more sought after or have special characteristics that make them more valuable.\n",
    "\n",
    "3. There is significant variation in card prices among different stores, suggesting that prices may be influenced by factors such as supply and demand in each store.\n",
    "\n",
    "4. When analyzing price distribution by card type, it can be observed that some types have higher average prices, indicating higher demand or rarity.\n",
    "\n",
    "These conclusions provide valuable insights for a better understanding of the Yu-Gi-Oh card market and can be used to make strategic decisions regarding purchasing, selling, or investing in this domain. It is important to continue exploring and analyzing the data to gain even more insights and knowledge.\n",
    "\n",
    "Furthermore, for future studies, it would be beneficial to enhance the analysis by incorporating a historical price analysis. By analyzing the price trends over time, we can gain a better understanding of the market dynamics, identify patterns, and make more informed predictions about future price movements. This historical perspective would provide valuable insights into market trends, price fluctuations, and potential investment opportunities.\n",
    "\n",
    "Additionally, conducting further analysis on other variables, such as card rarity, card condition, and card edition, could contribute to a more comprehensive understanding of the factors influencing card prices. Exploring correlations between these variables and prices can provide valuable insights into collectors' preferences and market dynamics.\n",
    "\n",
    "In conclusion, by incorporating historical price analysis and expanding the scope of variables considered, future studies can provide more robust and detailed insights into the Yu-Gi-Oh card market, enabling stakeholders to make more informed decisions and capitalize on market opportunities."
   ]
  }
 ],
 "metadata": {
  "kernelspec": {
   "display_name": "Python 3",
   "language": "python",
   "name": "python3"
  },
  "language_info": {
   "codemirror_mode": {
    "name": "ipython",
    "version": 3
   },
   "file_extension": ".py",
   "mimetype": "text/x-python",
   "name": "python",
   "nbconvert_exporter": "python",
   "pygments_lexer": "ipython3",
   "version": "3.11.1"
  },
  "orig_nbformat": 4
 },
 "nbformat": 4,
 "nbformat_minor": 2
}
